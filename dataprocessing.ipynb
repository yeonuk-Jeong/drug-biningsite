{
 "cells": [
  {
   "cell_type": "markdown",
   "metadata": {
    "colab_type": "text",
    "id": "8skBG_v99aDx"
   },
   "source": [
    "# DTI 데이터 전처리"
   ]
  },
  {
   "cell_type": "code",
   "execution_count": 1,
   "metadata": {
    "colab": {
     "base_uri": "https://localhost:8080/",
     "height": 350
    },
    "colab_type": "code",
    "executionInfo": {
     "elapsed": 602,
     "status": "error",
     "timestamp": 1580532342119,
     "user": {
      "displayName": "yeonuk jeong",
      "photoUrl": "",
      "userId": "08155065502608055169"
     },
     "user_tz": -540
    },
    "id": "exQD6gx09aD4",
    "outputId": "cf000016-bab1-4196-edfc-7391d1eabc11"
   },
   "outputs": [
    {
     "name": "stderr",
     "output_type": "stream",
     "text": [
      "RDKit WARNING: [18:28:01] Enabling RDKit 2019.09.3 jupyter extensions\n"
     ]
    }
   ],
   "source": [
    "from IPython.core.display import display\n",
    "from rdkit import Chem\n",
    "from rdkit.Chem import AllChem, MolToSmiles\n",
    "from Bio import SeqIO\n",
    "import pandas as pd\n",
    "from rdkit.Chem import PandasTools\n",
    "from rdkit.Chem import Descriptors\n",
    "pd.set_option('display.max_rows', 10)"
   ]
  },
  {
   "cell_type": "code",
   "execution_count": 2,
   "metadata": {},
   "outputs": [
    {
     "name": "stdout",
     "output_type": "stream",
     "text": [
      "<class 'pandas.core.frame.DataFrame'>\n",
      "RangeIndex: 2451 entries, 0 to 2450\n",
      "Data columns (total 44 columns):\n",
      "ALOGPS_LOGP                                  2302 non-null object\n",
      "ALOGPS_LOGS                                  2302 non-null object\n",
      "ALOGPS_SOLUBILITY                            2302 non-null object\n",
      "DATABASE_ID                                  2451 non-null object\n",
      "DATABASE_NAME                                2451 non-null object\n",
      "DRUGBANK_ID                                  2451 non-null object\n",
      "DRUG_GROUPS                                  2451 non-null object\n",
      "EXACT_MASS                                   2451 non-null object\n",
      "FORMULA                                      2451 non-null object\n",
      "GENERIC_NAME                                 2451 non-null object\n",
      "ID                                           2451 non-null object\n",
      "INCHI_IDENTIFIER                             2450 non-null object\n",
      "INCHI_KEY                                    2451 non-null object\n",
      "INTERNATIONAL_BRANDS                         1161 non-null object\n",
      "JCHEM_ACCEPTOR_COUNT                         2451 non-null object\n",
      "JCHEM_ATOM_COUNT                             1149 non-null object\n",
      "JCHEM_AVERAGE_NEUTRAL_MICROSPECIES_CHARGE    31 non-null object\n",
      "JCHEM_AVERAGE_POLARIZABILITY                 2450 non-null object\n",
      "JCHEM_BIOAVAILABILITY                        2451 non-null object\n",
      "JCHEM_DONOR_COUNT                            2451 non-null object\n",
      "JCHEM_FORMAL_CHARGE                          2451 non-null object\n",
      "JCHEM_GHOSE_FILTER                           2451 non-null object\n",
      "JCHEM_IUPAC                                  2447 non-null object\n",
      "JCHEM_LOGP                                   2446 non-null object\n",
      "JCHEM_MDDR_LIKE_RULE                         2451 non-null object\n",
      "JCHEM_NEUTRAL_CHARGE                         31 non-null object\n",
      "JCHEM_NUMBER_OF_RINGS                        2451 non-null object\n",
      "JCHEM_PHYSIOLOGICAL_CHARGE                   2451 non-null object\n",
      "JCHEM_PKA                                    1221 non-null object\n",
      "JCHEM_PKA_STRONGEST_ACIDIC                   1944 non-null object\n",
      "JCHEM_PKA_STRONGEST_BASIC                    2189 non-null object\n",
      "JCHEM_POLAR_SURFACE_AREA                     2451 non-null object\n",
      "JCHEM_REFRACTIVITY                           2451 non-null object\n",
      "JCHEM_ROTATABLE_BOND_COUNT                   2451 non-null object\n",
      "JCHEM_RULE_OF_FIVE                           2451 non-null object\n",
      "JCHEM_TRADITIONAL_IUPAC                      2447 non-null object\n",
      "JCHEM_VEBER_RULE                             2451 non-null object\n",
      "MOLECULAR_WEIGHT                             2451 non-null object\n",
      "PRODUCTS                                     2046 non-null object\n",
      "ROMol                                        2451 non-null object\n",
      "SALTS                                        1176 non-null object\n",
      "SECONDARY_ACCESSION_NUMBERS                  1326 non-null object\n",
      "SMILES                                       2451 non-null object\n",
      "SYNONYMS                                     2304 non-null object\n",
      "dtypes: object(44)\n",
      "memory usage: 842.6+ KB\n"
     ]
    }
   ],
   "source": [
    "cmp_db = PandasTools.LoadSDF('approved_structures.sdf')\n",
    "cmp_db = cmp_db.drop_duplicates('DRUGBANK_ID')\n",
    "cmp_db = cmp_db.reset_index(drop=True)\n",
    "cmp_db.to_csv(\"cmp_db.csv\", mode='w')\n",
    "cmp_db.info()"
   ]
  },
  {
   "cell_type": "code",
   "execution_count": 3,
   "metadata": {},
   "outputs": [
    {
     "name": "stderr",
     "output_type": "stream",
     "text": [
      "C:\\Users\\yeonuk\\Anaconda3\\lib\\site-packages\\pandas\\core\\indexing.py:190: SettingWithCopyWarning: \n",
      "A value is trying to be set on a copy of a slice from a DataFrame\n",
      "\n",
      "See the caveats in the documentation: http://pandas.pydata.org/pandas-docs/stable/indexing.html#indexing-view-versus-copy\n",
      "  self._setitem_with_indexer(indexer, value)\n"
     ]
    },
    {
     "data": {
      "text/html": [
       "<div>\n",
       "<style scoped>\n",
       "    .dataframe tbody tr th:only-of-type {\n",
       "        vertical-align: middle;\n",
       "    }\n",
       "\n",
       "    .dataframe tbody tr th {\n",
       "        vertical-align: top;\n",
       "    }\n",
       "\n",
       "    .dataframe thead th {\n",
       "        text-align: right;\n",
       "    }\n",
       "</style>\n",
       "<table border=\"1\" class=\"dataframe\">\n",
       "  <thead>\n",
       "    <tr style=\"text-align: right;\">\n",
       "      <th></th>\n",
       "      <th>Compound_ID</th>\n",
       "      <th>morgan_fp_r2</th>\n",
       "    </tr>\n",
       "  </thead>\n",
       "  <tbody>\n",
       "    <tr>\n",
       "      <th>0</th>\n",
       "      <td>DB00006</td>\n",
       "      <td>0\\t1\\t0\\t0\\t0\\t0\\t0\\t0\\t0\\t0\\t0\\t0\\t0\\t0\\t0\\t0...</td>\n",
       "    </tr>\n",
       "    <tr>\n",
       "      <th>1</th>\n",
       "      <td>DB00007</td>\n",
       "      <td>0\\t1\\t0\\t0\\t0\\t0\\t0\\t0\\t0\\t0\\t0\\t0\\t0\\t0\\t0\\t0...</td>\n",
       "    </tr>\n",
       "    <tr>\n",
       "      <th>2</th>\n",
       "      <td>DB00014</td>\n",
       "      <td>0\\t1\\t0\\t0\\t0\\t0\\t0\\t0\\t0\\t0\\t0\\t0\\t0\\t0\\t0\\t0...</td>\n",
       "    </tr>\n",
       "    <tr>\n",
       "      <th>3</th>\n",
       "      <td>DB00027</td>\n",
       "      <td>0\\t1\\t0\\t0\\t0\\t0\\t0\\t0\\t0\\t0\\t0\\t0\\t0\\t0\\t0\\t0...</td>\n",
       "    </tr>\n",
       "    <tr>\n",
       "      <th>4</th>\n",
       "      <td>DB00035</td>\n",
       "      <td>0\\t1\\t0\\t0\\t0\\t0\\t0\\t0\\t0\\t0\\t0\\t0\\t0\\t0\\t0\\t0...</td>\n",
       "    </tr>\n",
       "    <tr>\n",
       "      <th>...</th>\n",
       "      <td>...</td>\n",
       "      <td>...</td>\n",
       "    </tr>\n",
       "    <tr>\n",
       "      <th>2446</th>\n",
       "      <td>DB15494</td>\n",
       "      <td>0\\t1\\t0\\t0\\t0\\t0\\t0\\t0\\t0\\t0\\t0\\t0\\t0\\t0\\t0\\t0...</td>\n",
       "    </tr>\n",
       "    <tr>\n",
       "      <th>2447</th>\n",
       "      <td>DB15534</td>\n",
       "      <td>0\\t0\\t0\\t0\\t0\\t0\\t0\\t0\\t0\\t0\\t0\\t0\\t0\\t0\\t0\\t0...</td>\n",
       "    </tr>\n",
       "    <tr>\n",
       "      <th>2448</th>\n",
       "      <td>DB15566</td>\n",
       "      <td>0\\t0\\t0\\t0\\t0\\t0\\t0\\t0\\t0\\t0\\t0\\t0\\t0\\t0\\t0\\t0...</td>\n",
       "    </tr>\n",
       "    <tr>\n",
       "      <th>2449</th>\n",
       "      <td>DB15576</td>\n",
       "      <td>0\\t0\\t0\\t0\\t0\\t0\\t0\\t0\\t0\\t0\\t0\\t0\\t0\\t0\\t0\\t0...</td>\n",
       "    </tr>\n",
       "    <tr>\n",
       "      <th>2450</th>\n",
       "      <td>DB15594</td>\n",
       "      <td>0\\t0\\t0\\t0\\t0\\t0\\t0\\t0\\t0\\t1\\t0\\t0\\t0\\t0\\t1\\t0...</td>\n",
       "    </tr>\n",
       "  </tbody>\n",
       "</table>\n",
       "<p>2451 rows × 2 columns</p>\n",
       "</div>"
      ],
      "text/plain": [
       "     Compound_ID                                       morgan_fp_r2\n",
       "0        DB00006  0\\t1\\t0\\t0\\t0\\t0\\t0\\t0\\t0\\t0\\t0\\t0\\t0\\t0\\t0\\t0...\n",
       "1        DB00007  0\\t1\\t0\\t0\\t0\\t0\\t0\\t0\\t0\\t0\\t0\\t0\\t0\\t0\\t0\\t0...\n",
       "2        DB00014  0\\t1\\t0\\t0\\t0\\t0\\t0\\t0\\t0\\t0\\t0\\t0\\t0\\t0\\t0\\t0...\n",
       "3        DB00027  0\\t1\\t0\\t0\\t0\\t0\\t0\\t0\\t0\\t0\\t0\\t0\\t0\\t0\\t0\\t0...\n",
       "4        DB00035  0\\t1\\t0\\t0\\t0\\t0\\t0\\t0\\t0\\t0\\t0\\t0\\t0\\t0\\t0\\t0...\n",
       "...          ...                                                ...\n",
       "2446     DB15494  0\\t1\\t0\\t0\\t0\\t0\\t0\\t0\\t0\\t0\\t0\\t0\\t0\\t0\\t0\\t0...\n",
       "2447     DB15534  0\\t0\\t0\\t0\\t0\\t0\\t0\\t0\\t0\\t0\\t0\\t0\\t0\\t0\\t0\\t0...\n",
       "2448     DB15566  0\\t0\\t0\\t0\\t0\\t0\\t0\\t0\\t0\\t0\\t0\\t0\\t0\\t0\\t0\\t0...\n",
       "2449     DB15576  0\\t0\\t0\\t0\\t0\\t0\\t0\\t0\\t0\\t0\\t0\\t0\\t0\\t0\\t0\\t0...\n",
       "2450     DB15594  0\\t0\\t0\\t0\\t0\\t0\\t0\\t0\\t0\\t1\\t0\\t0\\t0\\t0\\t1\\t0...\n",
       "\n",
       "[2451 rows x 2 columns]"
      ]
     },
     "execution_count": 3,
     "metadata": {},
     "output_type": "execute_result"
    }
   ],
   "source": [
    "cmp_db[\"morgan_fp_r2\"]=1\n",
    "nMols = len(cmp_db[\"ROMol\"])\n",
    "for i in range(nMols):\n",
    "    morgan_fp = AllChem.GetMorganFingerprintAsBitVect(cmp_db[\"ROMol\"].iloc[i], radius=2, nBits=2048)\n",
    "    morgan_fp=morgan_fp.ToBitString()\n",
    "    cmp_db[\"morgan_fp_r2\"].iloc[i] = '\\t'.join(list(morgan_fp))\n",
    "    \n",
    "\n",
    "cmp_db.rename(columns = {'DATABASE_ID' : 'Compound_ID'}, inplace =True) \n",
    "sample_cmp = cmp_db[[\"Compound_ID\",\"morgan_fp_r2\"]]\n",
    "#deep conv 넣으려고 열이름 걔네들꺼랑 같이 바꿔줌\n",
    "\n",
    "\n",
    "sample_cmp"
   ]
  },
  {
   "cell_type": "code",
   "execution_count": 4,
   "metadata": {
    "colab": {},
    "colab_type": "code",
    "id": "o69JpwwO9aFM",
    "scrolled": true
   },
   "outputs": [
    {
     "data": {
      "text/html": [
       "<div>\n",
       "<style scoped>\n",
       "    .dataframe tbody tr th:only-of-type {\n",
       "        vertical-align: middle;\n",
       "    }\n",
       "\n",
       "    .dataframe tbody tr th {\n",
       "        vertical-align: top;\n",
       "    }\n",
       "\n",
       "    .dataframe thead th {\n",
       "        text-align: right;\n",
       "    }\n",
       "</style>\n",
       "<table border=\"1\" class=\"dataframe\">\n",
       "  <thead>\n",
       "    <tr style=\"text-align: right;\">\n",
       "      <th></th>\n",
       "      <th>Protein_ID</th>\n",
       "      <th>Sequence</th>\n",
       "    </tr>\n",
       "  </thead>\n",
       "  <tbody>\n",
       "    <tr>\n",
       "      <th>0</th>\n",
       "      <td>P45059</td>\n",
       "      <td>(M, V, K, F, N, S, S, R, K, S, G, K, S, K, K, ...</td>\n",
       "    </tr>\n",
       "    <tr>\n",
       "      <th>1</th>\n",
       "      <td>P19113</td>\n",
       "      <td>(M, M, E, P, E, E, Y, R, E, R, G, R, E, M, V, ...</td>\n",
       "    </tr>\n",
       "    <tr>\n",
       "      <th>2</th>\n",
       "      <td>Q9UI32</td>\n",
       "      <td>(M, R, S, M, K, A, L, Q, K, A, L, S, R, A, G, ...</td>\n",
       "    </tr>\n",
       "    <tr>\n",
       "      <th>3</th>\n",
       "      <td>P00488</td>\n",
       "      <td>(M, S, E, T, S, R, T, A, F, G, G, R, R, A, V, ...</td>\n",
       "    </tr>\n",
       "    <tr>\n",
       "      <th>4</th>\n",
       "      <td>P35228</td>\n",
       "      <td>(M, A, C, P, W, K, F, L, F, K, T, K, F, H, Q, ...</td>\n",
       "    </tr>\n",
       "    <tr>\n",
       "      <th>...</th>\n",
       "      <td>...</td>\n",
       "      <td>...</td>\n",
       "    </tr>\n",
       "    <tr>\n",
       "      <th>2744</th>\n",
       "      <td>P06025</td>\n",
       "      <td>(M, D, A, D, K, I, V, F, K, V, N, N, Q, V, V, ...</td>\n",
       "    </tr>\n",
       "    <tr>\n",
       "      <th>2745</th>\n",
       "      <td>P06747</td>\n",
       "      <td>(M, S, K, I, F, V, N, P, S, A, I, R, A, G, L, ...</td>\n",
       "    </tr>\n",
       "    <tr>\n",
       "      <th>2746</th>\n",
       "      <td>P48764</td>\n",
       "      <td>(M, W, G, L, G, A, R, G, P, D, R, G, L, L, L, ...</td>\n",
       "    </tr>\n",
       "    <tr>\n",
       "      <th>2747</th>\n",
       "      <td>P11532</td>\n",
       "      <td>(M, L, W, W, E, E, V, E, D, C, Y, E, R, E, D, ...</td>\n",
       "    </tr>\n",
       "    <tr>\n",
       "      <th>2748</th>\n",
       "      <td>Q96NY8</td>\n",
       "      <td>(M, P, L, S, L, G, A, E, M, W, G, P, E, A, W, ...</td>\n",
       "    </tr>\n",
       "  </tbody>\n",
       "</table>\n",
       "<p>2749 rows × 2 columns</p>\n",
       "</div>"
      ],
      "text/plain": [
       "     Protein_ID                                           Sequence\n",
       "0        P45059  (M, V, K, F, N, S, S, R, K, S, G, K, S, K, K, ...\n",
       "1        P19113  (M, M, E, P, E, E, Y, R, E, R, G, R, E, M, V, ...\n",
       "2        Q9UI32  (M, R, S, M, K, A, L, Q, K, A, L, S, R, A, G, ...\n",
       "3        P00488  (M, S, E, T, S, R, T, A, F, G, G, R, R, A, V, ...\n",
       "4        P35228  (M, A, C, P, W, K, F, L, F, K, T, K, F, H, Q, ...\n",
       "...         ...                                                ...\n",
       "2744     P06025  (M, D, A, D, K, I, V, F, K, V, N, N, Q, V, V, ...\n",
       "2745     P06747  (M, S, K, I, F, V, N, P, S, A, I, R, A, G, L, ...\n",
       "2746     P48764  (M, W, G, L, G, A, R, G, P, D, R, G, L, L, L, ...\n",
       "2747     P11532  (M, L, W, W, E, E, V, E, D, C, Y, E, R, E, D, ...\n",
       "2748     Q96NY8  (M, P, L, S, L, G, A, E, M, W, G, P, E, A, W, ...\n",
       "\n",
       "[2749 rows x 2 columns]"
      ]
     },
     "execution_count": 4,
     "metadata": {},
     "output_type": "execute_result"
    }
   ],
   "source": [
    "prt_db = pd.DataFrame({\"Protein_ID\":[],\"Sequence\":[]})\n",
    "for records in SeqIO.parse(\"approved_protein.fasta\",\"fasta\"):\n",
    "    prt_db = prt_db.append(pd.DataFrame(data=[[records.id, records.seq]],columns=[\"Protein_ID\",\"Sequence\"]))\n",
    "\n",
    "prt_db = prt_db.drop_duplicates('Protein_ID')\n",
    "prt_db = prt_db.reset_index(drop=True)\n",
    "prt_db['Protein_ID'] = prt_db['Protein_ID'].str[16:]\n",
    "\n",
    "prt_db"
   ]
  },
  {
   "cell_type": "code",
   "execution_count": 5,
   "metadata": {},
   "outputs": [],
   "source": [
    "dti_ids = pd.read_csv('drugbank_all_target_polypeptide_ids.csv/all.csv')\n",
    "dti_labels = dti_ids[['UniProt ID','Drug IDs']]"
   ]
  },
  {
   "cell_type": "code",
   "execution_count": 6,
   "metadata": {},
   "outputs": [
    {
     "data": {
      "text/html": [
       "<div>\n",
       "<style scoped>\n",
       "    .dataframe tbody tr th:only-of-type {\n",
       "        vertical-align: middle;\n",
       "    }\n",
       "\n",
       "    .dataframe tbody tr th {\n",
       "        vertical-align: top;\n",
       "    }\n",
       "\n",
       "    .dataframe thead th {\n",
       "        text-align: right;\n",
       "    }\n",
       "</style>\n",
       "<table border=\"1\" class=\"dataframe\">\n",
       "  <thead>\n",
       "    <tr style=\"text-align: right;\">\n",
       "      <th></th>\n",
       "      <th>UniProt ID</th>\n",
       "      <th>Drug IDs</th>\n",
       "    </tr>\n",
       "  </thead>\n",
       "  <tbody>\n",
       "    <tr>\n",
       "      <th>0</th>\n",
       "      <td>P45059</td>\n",
       "      <td>DB00303</td>\n",
       "    </tr>\n",
       "    <tr>\n",
       "      <th>1</th>\n",
       "      <td>P19113</td>\n",
       "      <td>DB00114; DB00117</td>\n",
       "    </tr>\n",
       "    <tr>\n",
       "      <th>2</th>\n",
       "      <td>Q9UI32</td>\n",
       "      <td>DB00142</td>\n",
       "    </tr>\n",
       "    <tr>\n",
       "      <th>3</th>\n",
       "      <td>P00488</td>\n",
       "      <td>DB01839; DB02340; DB11300; DB11311; DB11571; D...</td>\n",
       "    </tr>\n",
       "    <tr>\n",
       "      <th>4</th>\n",
       "      <td>P35228</td>\n",
       "      <td>DB00125; DB00155; DB01110; DB01234; DB01686; D...</td>\n",
       "    </tr>\n",
       "    <tr>\n",
       "      <th>...</th>\n",
       "      <td>...</td>\n",
       "      <td>...</td>\n",
       "    </tr>\n",
       "    <tr>\n",
       "      <th>5115</th>\n",
       "      <td>Q13003</td>\n",
       "      <td>DB00273</td>\n",
       "    </tr>\n",
       "    <tr>\n",
       "      <th>5116</th>\n",
       "      <td>Q16099</td>\n",
       "      <td>DB00273</td>\n",
       "    </tr>\n",
       "    <tr>\n",
       "      <th>5117</th>\n",
       "      <td>Q16478</td>\n",
       "      <td>DB00273</td>\n",
       "    </tr>\n",
       "    <tr>\n",
       "      <th>5118</th>\n",
       "      <td>P11532</td>\n",
       "      <td>DB15593</td>\n",
       "    </tr>\n",
       "    <tr>\n",
       "      <th>5119</th>\n",
       "      <td>Q96NY8</td>\n",
       "      <td>DB13007</td>\n",
       "    </tr>\n",
       "  </tbody>\n",
       "</table>\n",
       "<p>5120 rows × 2 columns</p>\n",
       "</div>"
      ],
      "text/plain": [
       "     UniProt ID                                           Drug IDs\n",
       "0        P45059                                            DB00303\n",
       "1        P19113                                   DB00114; DB00117\n",
       "2        Q9UI32                                            DB00142\n",
       "3        P00488  DB01839; DB02340; DB11300; DB11311; DB11571; D...\n",
       "4        P35228  DB00125; DB00155; DB01110; DB01234; DB01686; D...\n",
       "...         ...                                                ...\n",
       "5115     Q13003                                            DB00273\n",
       "5116     Q16099                                            DB00273\n",
       "5117     Q16478                                            DB00273\n",
       "5118     P11532                                            DB15593\n",
       "5119     Q96NY8                                            DB13007\n",
       "\n",
       "[5120 rows x 2 columns]"
      ]
     },
     "execution_count": 6,
     "metadata": {},
     "output_type": "execute_result"
    }
   ],
   "source": [
    "dti_labels"
   ]
  },
  {
   "cell_type": "code",
   "execution_count": 7,
   "metadata": {},
   "outputs": [
    {
     "data": {
      "text/html": [
       "<div>\n",
       "<style scoped>\n",
       "    .dataframe tbody tr th:only-of-type {\n",
       "        vertical-align: middle;\n",
       "    }\n",
       "\n",
       "    .dataframe tbody tr th {\n",
       "        vertical-align: top;\n",
       "    }\n",
       "\n",
       "    .dataframe thead th {\n",
       "        text-align: right;\n",
       "    }\n",
       "</style>\n",
       "<table border=\"1\" class=\"dataframe\">\n",
       "  <thead>\n",
       "    <tr style=\"text-align: right;\">\n",
       "      <th></th>\n",
       "      <th>Compound_ID</th>\n",
       "      <th>Protein_ID</th>\n",
       "      <th>Label</th>\n",
       "    </tr>\n",
       "  </thead>\n",
       "  <tbody>\n",
       "    <tr>\n",
       "      <th>0</th>\n",
       "      <td>DB00303</td>\n",
       "      <td>P45059</td>\n",
       "      <td>1</td>\n",
       "    </tr>\n",
       "    <tr>\n",
       "      <th>1</th>\n",
       "      <td>DB00114</td>\n",
       "      <td>P19113</td>\n",
       "      <td>1</td>\n",
       "    </tr>\n",
       "    <tr>\n",
       "      <th>2</th>\n",
       "      <td>DB00117</td>\n",
       "      <td>P19113</td>\n",
       "      <td>1</td>\n",
       "    </tr>\n",
       "    <tr>\n",
       "      <th>3</th>\n",
       "      <td>DB00142</td>\n",
       "      <td>Q9UI32</td>\n",
       "      <td>1</td>\n",
       "    </tr>\n",
       "    <tr>\n",
       "      <th>4</th>\n",
       "      <td>DB01839</td>\n",
       "      <td>P00488</td>\n",
       "      <td>1</td>\n",
       "    </tr>\n",
       "    <tr>\n",
       "      <th>...</th>\n",
       "      <td>...</td>\n",
       "      <td>...</td>\n",
       "      <td>...</td>\n",
       "    </tr>\n",
       "    <tr>\n",
       "      <th>20739</th>\n",
       "      <td>DB00273</td>\n",
       "      <td>Q13003</td>\n",
       "      <td>1</td>\n",
       "    </tr>\n",
       "    <tr>\n",
       "      <th>20740</th>\n",
       "      <td>DB00273</td>\n",
       "      <td>Q16099</td>\n",
       "      <td>1</td>\n",
       "    </tr>\n",
       "    <tr>\n",
       "      <th>20741</th>\n",
       "      <td>DB00273</td>\n",
       "      <td>Q16478</td>\n",
       "      <td>1</td>\n",
       "    </tr>\n",
       "    <tr>\n",
       "      <th>20742</th>\n",
       "      <td>DB15593</td>\n",
       "      <td>P11532</td>\n",
       "      <td>1</td>\n",
       "    </tr>\n",
       "    <tr>\n",
       "      <th>20743</th>\n",
       "      <td>DB13007</td>\n",
       "      <td>Q96NY8</td>\n",
       "      <td>1</td>\n",
       "    </tr>\n",
       "  </tbody>\n",
       "</table>\n",
       "<p>20534 rows × 3 columns</p>\n",
       "</div>"
      ],
      "text/plain": [
       "      Compound_ID Protein_ID  Label\n",
       "0         DB00303     P45059      1\n",
       "1         DB00114     P19113      1\n",
       "2         DB00117     P19113      1\n",
       "3         DB00142     Q9UI32      1\n",
       "4         DB01839     P00488      1\n",
       "...           ...        ...    ...\n",
       "20739     DB00273     Q13003      1\n",
       "20740     DB00273     Q16099      1\n",
       "20741     DB00273     Q16478      1\n",
       "20742     DB15593     P11532      1\n",
       "20743     DB13007     Q96NY8      1\n",
       "\n",
       "[20534 rows x 3 columns]"
      ]
     },
     "execution_count": 7,
     "metadata": {},
     "output_type": "execute_result"
    }
   ],
   "source": [
    "dti_label = pd.concat([dti_labels['UniProt ID'],pd.DataFrame(dti_labels['Drug IDs'].str.split(';').tolist())], axis=1) \n",
    "dti_label = dti_label.set_index('UniProt ID').stack().reset_index()\n",
    "del dti_label['level_1']\n",
    "\n",
    "dti_label.columns = ['Protein_ID','Compound_ID']\n",
    "dti_label = dti_label.loc[:,::-1]\n",
    "dti_label['Label'] = 1\n",
    "\n",
    "dti_label = dti_label.drop_duplicates()\n",
    "dti_label"
   ]
  },
  {
   "cell_type": "code",
   "execution_count": 38,
   "metadata": {},
   "outputs": [],
   "source": [
    "label_available = dti_label[dti_label.Compound_ID.isin(list(cmp_db.Compound_ID)) & dti_label.Protein_ID.isin(list(prt_db.Protein_ID))]"
   ]
  },
  {
   "cell_type": "code",
   "execution_count": 39,
   "metadata": {},
   "outputs": [],
   "source": [
    "# label_available 컴파운드와 프로틴 정보가 둘다 각 db에 있어서 실제 학습에 사용될 수 있는 라벨 \n",
    "label_available = dti_label[dti_label.Compound_ID.isin(list(cmp_db.Compound_ID)) & dti_label.Protein_ID.isin(list(prt_db.Protein_ID))] \n",
    "\n",
    "cmp_final = cmp_db[cmp_db.Compound_ID.isin(list(label_available.Compound_ID))]\n",
    "prt_final = prt_db[prt_db.Protein_ID.isin(list(label_available.Protein_ID))]\n",
    "\n",
    "cmp_final = cmp_final.reset_index(drop=True)\n",
    "prt_final = prt_final.reset_index(drop=True)"
   ]
  },
  {
   "cell_type": "code",
   "execution_count": 41,
   "metadata": {},
   "outputs": [],
   "source": [
    "from itertools import product\n",
    "\n",
    "items = [list(cmp_final.Compound_ID),list(prt_final.Protein_ID)]\n",
    "total_table = pd.DataFrame(product(*items),columns = [\"Compound_ID\", \"Protein_ID\"])"
   ]
  },
  {
   "cell_type": "code",
   "execution_count": 42,
   "metadata": {},
   "outputs": [
    {
     "data": {
      "text/html": [
       "<div>\n",
       "<style scoped>\n",
       "    .dataframe tbody tr th:only-of-type {\n",
       "        vertical-align: middle;\n",
       "    }\n",
       "\n",
       "    .dataframe tbody tr th {\n",
       "        vertical-align: top;\n",
       "    }\n",
       "\n",
       "    .dataframe thead th {\n",
       "        text-align: right;\n",
       "    }\n",
       "</style>\n",
       "<table border=\"1\" class=\"dataframe\">\n",
       "  <thead>\n",
       "    <tr style=\"text-align: right;\">\n",
       "      <th></th>\n",
       "      <th>Compound_ID</th>\n",
       "      <th>Protein_ID</th>\n",
       "      <th>Label</th>\n",
       "    </tr>\n",
       "  </thead>\n",
       "  <tbody>\n",
       "    <tr>\n",
       "      <th>0</th>\n",
       "      <td>DB00007</td>\n",
       "      <td>P45059</td>\n",
       "      <td>0</td>\n",
       "    </tr>\n",
       "    <tr>\n",
       "      <th>1</th>\n",
       "      <td>DB00007</td>\n",
       "      <td>P19113</td>\n",
       "      <td>0</td>\n",
       "    </tr>\n",
       "    <tr>\n",
       "      <th>2</th>\n",
       "      <td>DB00007</td>\n",
       "      <td>Q9UI32</td>\n",
       "      <td>0</td>\n",
       "    </tr>\n",
       "    <tr>\n",
       "      <th>3</th>\n",
       "      <td>DB00007</td>\n",
       "      <td>P00488</td>\n",
       "      <td>0</td>\n",
       "    </tr>\n",
       "    <tr>\n",
       "      <th>4</th>\n",
       "      <td>DB00007</td>\n",
       "      <td>P37059</td>\n",
       "      <td>0</td>\n",
       "    </tr>\n",
       "    <tr>\n",
       "      <th>...</th>\n",
       "      <td>...</td>\n",
       "      <td>...</td>\n",
       "      <td>...</td>\n",
       "    </tr>\n",
       "    <tr>\n",
       "      <th>1218807</th>\n",
       "      <td>DB13997</td>\n",
       "      <td>Q9X757</td>\n",
       "      <td>0</td>\n",
       "    </tr>\n",
       "    <tr>\n",
       "      <th>1218808</th>\n",
       "      <td>DB13997</td>\n",
       "      <td>A0A068JFB7</td>\n",
       "      <td>0</td>\n",
       "    </tr>\n",
       "    <tr>\n",
       "      <th>1218809</th>\n",
       "      <td>DB13997</td>\n",
       "      <td>Q93LQ9</td>\n",
       "      <td>0</td>\n",
       "    </tr>\n",
       "    <tr>\n",
       "      <th>1218810</th>\n",
       "      <td>DB13997</td>\n",
       "      <td>Q8TD43</td>\n",
       "      <td>0</td>\n",
       "    </tr>\n",
       "    <tr>\n",
       "      <th>1218811</th>\n",
       "      <td>DB13997</td>\n",
       "      <td>P48764</td>\n",
       "      <td>0</td>\n",
       "    </tr>\n",
       "  </tbody>\n",
       "</table>\n",
       "<p>1218812 rows × 3 columns</p>\n",
       "</div>"
      ],
      "text/plain": [
       "        Compound_ID  Protein_ID  Label\n",
       "0           DB00007      P45059      0\n",
       "1           DB00007      P19113      0\n",
       "2           DB00007      Q9UI32      0\n",
       "3           DB00007      P00488      0\n",
       "4           DB00007      P37059      0\n",
       "...             ...         ...    ...\n",
       "1218807     DB13997      Q9X757      0\n",
       "1218808     DB13997  A0A068JFB7      0\n",
       "1218809     DB13997      Q93LQ9      0\n",
       "1218810     DB13997      Q8TD43      0\n",
       "1218811     DB13997      P48764      0\n",
       "\n",
       "[1218812 rows x 3 columns]"
      ]
     },
     "execution_count": 42,
     "metadata": {},
     "output_type": "execute_result"
    }
   ],
   "source": [
    "total_table = pd.merge(left=total_table, right=label_available, how='left', on=[\"Compound_ID\",\"Protein_ID\"], sort=False)\n",
    "total_table = total_table.fillna(0)\n",
    "total_table.Label = total_table.Label.astype('Int64')\n",
    "\n",
    "total_table= total_table.reset_index(drop=True)\n",
    "total_table"
   ]
  },
  {
   "cell_type": "code",
   "execution_count": 43,
   "metadata": {},
   "outputs": [],
   "source": [
    "#csv로 저장\n",
    "cmp_final.to_csv(\"drugbank_cmp_proccessed.csv\", mode='w')\n",
    "prt_final.to_csv(\"drugbank_prt.csv\", mode='w')\n",
    "total_table.to_csv(\"drugbank_label_proccessed.csv\", mode='w')"
   ]
  },
  {
   "cell_type": "code",
   "execution_count": 47,
   "metadata": {},
   "outputs": [
    {
     "data": {
      "text/plain": [
       "2447"
      ]
     },
     "execution_count": 47,
     "metadata": {},
     "output_type": "execute_result"
    }
   ],
   "source": [
    "sum(total_table.Label)"
   ]
  },
  {
   "cell_type": "code",
   "execution_count": 48,
   "metadata": {},
   "outputs": [],
   "source": [
    "zero_label = total_table[total_table['Label']==0] #total_table = drugbank_label.csv\n",
    "sample_zero_label = zero_label.sample(frac=0.001).reset_index(drop=True) # 약 670만개에서 0.001배 하여 6735개\n",
    "sample_table = pd.concat([total_table[total_table['Label']==1] , sample_zero_label]) #라벨 1인것 2447개 더해서 9182 개\n"
   ]
  },
  {
   "cell_type": "code",
   "execution_count": 51,
   "metadata": {},
   "outputs": [],
   "source": [
    "x_data = sample_table.drop('Label',axis=1)\n",
    "y_data = sample_table['Label']"
   ]
  },
  {
   "cell_type": "code",
   "execution_count": 52,
   "metadata": {},
   "outputs": [],
   "source": [
    "from sklearn.model_selection import train_test_split\n",
    "\n",
    "x_train_raw, x_test, y_train_raw, y_test = train_test_split(\n",
    "    x_data, \n",
    "    y_data,\n",
    "    stratify=sample_table['Label'],\n",
    "    test_size=0.2, random_state=1)\n",
    "\n",
    "\n",
    "x_train, x_vaild, y_train, y_vaild = train_test_split(\n",
    "    x_train_raw, \n",
    "    y_train_raw,\n",
    "    stratify=y_train_raw,\n",
    "    test_size=0.25, random_state=1)"
   ]
  },
  {
   "cell_type": "code",
   "execution_count": 53,
   "metadata": {},
   "outputs": [
    {
     "name": "stdout",
     "output_type": "stream",
     "text": [
      "5508 1837 1837\n"
     ]
    }
   ],
   "source": [
    "print(len(x_train),len(x_vaild), len(x_test))"
   ]
  },
  {
   "cell_type": "code",
   "execution_count": 54,
   "metadata": {},
   "outputs": [
    {
     "name": "stdout",
     "output_type": "stream",
     "text": [
      "1468 489 490\n"
     ]
    }
   ],
   "source": [
    "print(sum(y_train),sum(y_vaild),sum(y_test))"
   ]
  },
  {
   "cell_type": "code",
   "execution_count": 55,
   "metadata": {},
   "outputs": [
    {
     "name": "stderr",
     "output_type": "stream",
     "text": [
      "C:\\Users\\yeonuk\\Anaconda3\\lib\\site-packages\\ipykernel_launcher.py:1: SettingWithCopyWarning: \n",
      "A value is trying to be set on a copy of a slice from a DataFrame.\n",
      "Try using .loc[row_indexer,col_indexer] = value instead\n",
      "\n",
      "See the caveats in the documentation: http://pandas.pydata.org/pandas-docs/stable/indexing.html#indexing-view-versus-copy\n",
      "  \"\"\"Entry point for launching an IPython kernel.\n",
      "C:\\Users\\yeonuk\\Anaconda3\\lib\\site-packages\\ipykernel_launcher.py:2: SettingWithCopyWarning: \n",
      "A value is trying to be set on a copy of a slice from a DataFrame.\n",
      "Try using .loc[row_indexer,col_indexer] = value instead\n",
      "\n",
      "See the caveats in the documentation: http://pandas.pydata.org/pandas-docs/stable/indexing.html#indexing-view-versus-copy\n",
      "  \n",
      "C:\\Users\\yeonuk\\Anaconda3\\lib\\site-packages\\ipykernel_launcher.py:3: SettingWithCopyWarning: \n",
      "A value is trying to be set on a copy of a slice from a DataFrame.\n",
      "Try using .loc[row_indexer,col_indexer] = value instead\n",
      "\n",
      "See the caveats in the documentation: http://pandas.pydata.org/pandas-docs/stable/indexing.html#indexing-view-versus-copy\n",
      "  This is separate from the ipykernel package so we can avoid doing imports until\n"
     ]
    }
   ],
   "source": [
    "x_train['Label'] = y_train\n",
    "x_vaild['Label'] = y_vaild\n",
    "x_test['Label'] = y_test"
   ]
  },
  {
   "cell_type": "code",
   "execution_count": 56,
   "metadata": {},
   "outputs": [],
   "source": [
    "training_comp = sample_cmp[sample_cmp.Compound_ID.isin(x_train.Compound_ID.drop_duplicates())]\n",
    "training_prt = prt_db[prt_db.Protein_ID.isin(x_train.Protein_ID.drop_duplicates())]\n",
    "\n",
    "training_comp.to_csv(\"training_comp.csv\", mode='w')\n",
    "training_prt.to_csv(\"training_prt.csv\", mode='w')\n",
    "x_train.to_csv(\"training_label.csv\", mode='w')"
   ]
  },
  {
   "cell_type": "code",
   "execution_count": 57,
   "metadata": {},
   "outputs": [],
   "source": [
    "validation_comp = sample_cmp[sample_cmp.Compound_ID.isin(x_vaild.Compound_ID.drop_duplicates())]\n",
    "validation_prt = prt_db[prt_db.Protein_ID.isin(x_vaild.Protein_ID.drop_duplicates())]\n",
    "\n",
    "validation_comp.to_csv(\"validation_comp.csv\", mode='w')\n",
    "validation_prt.to_csv(\"validation_prt.csv\", mode='w')\n",
    "x_vaild.to_csv(\"validation_label.csv\", mode='w')"
   ]
  },
  {
   "cell_type": "code",
   "execution_count": 58,
   "metadata": {},
   "outputs": [],
   "source": [
    "test_comp = sample_cmp[sample_cmp.Compound_ID.isin(x_test.Compound_ID.drop_duplicates())]\n",
    "test_prt = prt_db[prt_db.Protein_ID.isin(x_test.Protein_ID.drop_duplicates())]\n",
    "\n",
    "test_comp.to_csv(\"test_comp.csv\", mode='w')\n",
    "test_prt.to_csv(\"test_prt.csv\", mode='w')\n",
    "x_test.to_csv(\"test_label.csv\", mode='w')"
   ]
  },
  {
   "cell_type": "code",
   "execution_count": null,
   "metadata": {},
   "outputs": [],
   "source": []
  },
  {
   "cell_type": "code",
   "execution_count": null,
   "metadata": {},
   "outputs": [],
   "source": []
  },
  {
   "cell_type": "code",
   "execution_count": 29,
   "metadata": {},
   "outputs": [],
   "source": [
    "from rdkit.Chem import Descriptors\n",
    "from rdkit.ML.Descriptors.MoleculeDescriptors import MolecularDescriptorCalculator"
   ]
  },
  {
   "cell_type": "code",
   "execution_count": 31,
   "metadata": {},
   "outputs": [],
   "source": [
    "desclist=[]\n",
    "for i in range(len(Descriptors.descList)):\n",
    "    desclist.append(Descriptors.descList[i][0])\n",
    "#200개"
   ]
  },
  {
   "cell_type": "code",
   "execution_count": 32,
   "metadata": {},
   "outputs": [],
   "source": [
    "desc_df = pd.DataFrame(columns=desclist)\n",
    "for c in range(len(cmp_db.DRUGBANK_ID)):\n",
    "    desc_df.loc[c]=MolecularDescriptorCalculator(desclist).CalcDescriptors(cmp_db[\"ROMol\"][c])\n"
   ]
  },
  {
   "cell_type": "code",
   "execution_count": 34,
   "metadata": {},
   "outputs": [],
   "source": [
    "cmp_features = pd.concat([sample_cmp,desc_df], axis=1)\n",
    "cmp_features.to_csv(\"cmp_features.csv\", mode='w')"
   ]
  },
  {
   "cell_type": "code",
   "execution_count": null,
   "metadata": {},
   "outputs": [],
   "source": []
  },
  {
   "cell_type": "code",
   "execution_count": null,
   "metadata": {},
   "outputs": [],
   "source": []
  },
  {
   "cell_type": "code",
   "execution_count": null,
   "metadata": {},
   "outputs": [],
   "source": []
  },
  {
   "cell_type": "code",
   "execution_count": null,
   "metadata": {},
   "outputs": [],
   "source": []
  },
  {
   "cell_type": "code",
   "execution_count": null,
   "metadata": {},
   "outputs": [],
   "source": []
  },
  {
   "cell_type": "code",
   "execution_count": null,
   "metadata": {},
   "outputs": [],
   "source": []
  },
  {
   "cell_type": "code",
   "execution_count": null,
   "metadata": {},
   "outputs": [],
   "source": [
    "# 연습노트"
   ]
  },
  {
   "cell_type": "code",
   "execution_count": 53,
   "metadata": {
    "colab": {},
    "colab_type": "code",
    "id": "NHo6YV6v9aEE"
   },
   "outputs": [],
   "source": [
    "suppl = Chem.SDMolSupplier('approved_structures.sdf')\n",
    "nMols = len(suppl)"
   ]
  },
  {
   "cell_type": "code",
   "execution_count": null,
   "metadata": {
    "colab": {},
    "colab_type": "code",
    "id": "sDK6-pCa9aES"
   },
   "outputs": [],
   "source": [
    "a=[]\n",
    "for i in range(nMols): \n",
    "    a=print(suppl[i].GetProp('DRUGBANK_ID'))\n",
    "    \n"
   ]
  },
  {
   "cell_type": "code",
   "execution_count": 78,
   "metadata": {},
   "outputs": [
    {
     "data": {
      "text/plain": [
       "'00000000010000100000000000000000000000000000000000000000000000000001010000000000100010000000000000000010000000000000000000000000100000000000000000000000000000000000000001000000000010010000000100000000000000000000000000000000000000000001010000000000000000000000000000000000000000001000000000000010000000000000000000000001001000000000000000000000000000100000000000000000000000000000000001000000000000000000000000000000000000000000000000000000100000000000000000000000000000000000000000000000000100000000000000010000000000000000000000000000000000000001000000000000000000000000000100000010000000000000000000000000000000000000000000000000000000000000000000100000000000000000000000000000000000000000000100000000000000000001001000000000000000000001000000000010000000000101000000000000000000000000000000000000000000010000000000000000000100000000000000010000000000000000000000000000000100000100000000000000000000010000000000000000000000000000100000000000000000000000000010000000000000000000000000000000000000000000000000000000000000000000000000000001000000000000000001000000001000010000000000000000100000001000000000000000000000000000000000000000000000000000000010000000000000000000000000000000000000000000000000000000000001000000000000000000000000100000000000000000000000000000000000000000000000000000000000000000000001000000000000000000000000000000000000000000000000000000000000000000000010000100100100000000000000000000000000000000000000000000000000001000000010000000000000000000000010000000000000000000000000000100000000000000000010000000000000000000000000000000000010000000000000000000000000000000000000000000000000000000000000000000000000000000000000000000000000000000000000000000000000000001000001000100000000000010000000000010000000000000000000000000001000100000000000001000000100000000000000000000000000000000000000000000000000000000000000000000100000000000000000000000000001000000000000000000000000000000000000000000000000000010100000000000000000000000000000000001010000000000000000000000000100000000000000000000000000000000000000000000000000000000'"
      ]
     },
     "execution_count": 78,
     "metadata": {},
     "output_type": "execute_result"
    }
   ],
   "source": [
    "morgan_fp.ToBitString()"
   ]
  },
  {
   "cell_type": "code",
   "execution_count": 54,
   "metadata": {
    "colab": {},
    "colab_type": "code",
    "id": "zLWQAcy09aEV"
   },
   "outputs": [
    {
     "ename": "ArgumentError",
     "evalue": "Python argument types in\n    rdkit.Chem.rdMolDescriptors.GetMorganFingerprintAsBitVect(NoneType)\ndid not match C++ signature:\n    GetMorganFingerprintAsBitVect(class RDKit::ROMol mol, int radius, unsigned int nBits=2048, class boost::python::api::object invariants=[], class boost::python::api::object fromAtoms=[], bool useChirality=False, bool useBondTypes=True, bool useFeatures=False, class boost::python::api::object bitInfo=None)",
     "output_type": "error",
     "traceback": [
      "\u001b[1;31m---------------------------------------------------------------------------\u001b[0m",
      "\u001b[1;31mArgumentError\u001b[0m                             Traceback (most recent call last)",
      "\u001b[1;32m<ipython-input-54-0e04efafe87d>\u001b[0m in \u001b[0;36m<module>\u001b[1;34m\u001b[0m\n\u001b[0;32m      2\u001b[0m \u001b[1;32mfor\u001b[0m \u001b[0mmol\u001b[0m \u001b[1;32min\u001b[0m \u001b[0msuppl\u001b[0m\u001b[1;33m:\u001b[0m\u001b[1;33m\u001b[0m\u001b[1;33m\u001b[0m\u001b[0m\n\u001b[0;32m      3\u001b[0m \u001b[1;33m\u001b[0m\u001b[0m\n\u001b[1;32m----> 4\u001b[1;33m     \u001b[0mmorgan_fp\u001b[0m \u001b[1;33m=\u001b[0m \u001b[0mAllChem\u001b[0m\u001b[1;33m.\u001b[0m\u001b[0mGetMorganFingerprintAsBitVect\u001b[0m\u001b[1;33m(\u001b[0m\u001b[0mmol\u001b[0m\u001b[1;33m,\u001b[0m \u001b[0mradius\u001b[0m\u001b[1;33m=\u001b[0m\u001b[1;36m2\u001b[0m\u001b[1;33m,\u001b[0m \u001b[0mnBits\u001b[0m\u001b[1;33m=\u001b[0m\u001b[1;36m2048\u001b[0m\u001b[1;33m)\u001b[0m\u001b[1;33m\u001b[0m\u001b[1;33m\u001b[0m\u001b[0m\n\u001b[0m\u001b[0;32m      5\u001b[0m     \u001b[0mfp\u001b[0m\u001b[1;33m.\u001b[0m\u001b[0mappend\u001b[0m\u001b[1;33m(\u001b[0m\u001b[0mmorgan_fp\u001b[0m\u001b[1;33m)\u001b[0m\u001b[1;33m\u001b[0m\u001b[1;33m\u001b[0m\u001b[0m\n\u001b[0;32m      6\u001b[0m \u001b[1;33m\u001b[0m\u001b[0m\n",
      "\u001b[1;31mArgumentError\u001b[0m: Python argument types in\n    rdkit.Chem.rdMolDescriptors.GetMorganFingerprintAsBitVect(NoneType)\ndid not match C++ signature:\n    GetMorganFingerprintAsBitVect(class RDKit::ROMol mol, int radius, unsigned int nBits=2048, class boost::python::api::object invariants=[], class boost::python::api::object fromAtoms=[], bool useChirality=False, bool useBondTypes=True, bool useFeatures=False, class boost::python::api::object bitInfo=None)"
     ]
    }
   ],
   "source": [
    "fp = []\n",
    "for mol in suppl: \n",
    "\n",
    "    morgan_fp = AllChem.GetMorganFingerprintAsBitVect(mol, radius=2, nBits=2048)\n",
    "    fp.append(morgan_fp)\n",
    "    \n",
    "fp"
   ]
  },
  {
   "cell_type": "code",
   "execution_count": null,
   "metadata": {
    "colab": {},
    "colab_type": "code",
    "id": "lzsBIOXJ9aEY",
    "outputId": "414f7ab6-e745-4485-91ec-3cbd32ba3d95"
   },
   "outputs": [
    {
     "data": {
      "text/plain": [
       "'DB00006'"
      ]
     },
     "execution_count": 46,
     "metadata": {
      "tags": []
     },
     "output_type": "execute_result"
    }
   ],
   "source": [
    "i=0\n",
    "compiund_id = mols[i].GetProp('DRUGBANK_ID')\n",
    "compiund_id"
   ]
  },
  {
   "cell_type": "code",
   "execution_count": 82,
   "metadata": {
    "colab": {},
    "colab_type": "code",
    "id": "eg6AuLB19aEb"
   },
   "outputs": [],
   "source": [
    "fp = AllChem.GetMorganFingerprintAsBitVect(suppl[0], radius=2, nBits=2048)"
   ]
  },
  {
   "cell_type": "code",
   "execution_count": 83,
   "metadata": {
    "colab": {},
    "colab_type": "code",
    "id": "xua0NZJK9aEe",
    "outputId": "a7f85da7-314d-45db-f4ad-7a2f6ef4ea30"
   },
   "outputs": [
    {
     "data": {
      "text/plain": [
       "2048"
      ]
     },
     "execution_count": 83,
     "metadata": {},
     "output_type": "execute_result"
    }
   ],
   "source": [
    "bits = fp.ToBitString()\n",
    "len(bits)"
   ]
  },
  {
   "cell_type": "code",
   "execution_count": null,
   "metadata": {
    "colab": {},
    "colab_type": "code",
    "id": "FeoAoU0i9aEp"
   },
   "outputs": [],
   "source": [
    "cmp_db = pd.DataFrame({\"Compound_ID\":[],\"morgan_fp_r2\":[]})\n"
   ]
  },
  {
   "cell_type": "code",
   "execution_count": null,
   "metadata": {
    "colab": {},
    "colab_type": "code",
    "id": "bcWQeCff9aEw",
    "outputId": "60a65b41-72d1-4813-a11c-570fb8a37fb1"
   },
   "outputs": [
    {
     "data": {
      "text/plain": [
       "str"
      ]
     },
     "execution_count": 158,
     "metadata": {
      "tags": []
     },
     "output_type": "execute_result"
    }
   ],
   "source": [
    "type(MolToSmiles(mols[0]))"
   ]
  },
  {
   "cell_type": "code",
   "execution_count": null,
   "metadata": {
    "colab": {},
    "colab_type": "code",
    "id": "0gNi1J_n9aE3",
    "outputId": "1655edb9-c29e-4cae-fff1-c7f1e62685f9"
   },
   "outputs": [
    {
     "data": {
      "text/plain": [
       "'DB00006'"
      ]
     },
     "execution_count": 12,
     "metadata": {
      "tags": []
     },
     "output_type": "execute_result"
    }
   ],
   "source": [
    "mols[0].HasProp('DRUGBANK_ID') #이런 속성이 있는지 확인 (1 있다 0 없다.)\n",
    "suppl[0].GetProp('DRUGBANK_ID') "
   ]
  },
  {
   "cell_type": "code",
   "execution_count": null,
   "metadata": {
    "colab": {},
    "colab_type": "code",
    "id": "_YSvcbI-9aE-",
    "outputId": "8f4fe199-5e74-4f96-c7c6-4c2d5a300dea"
   },
   "outputs": [
    {
     "data": {
      "text/plain": [
       "1"
      ]
     },
     "execution_count": 15,
     "metadata": {
      "tags": []
     },
     "output_type": "execute_result"
    }
   ],
   "source": []
  },
  {
   "cell_type": "code",
   "execution_count": null,
   "metadata": {
    "colab": {},
    "colab_type": "code",
    "id": "iYPULBwu9aFE"
   },
   "outputs": [],
   "source": [
    "#print(Chem.MolToMolBlock(mols_3d[0]))"
   ]
  },
  {
   "cell_type": "code",
   "execution_count": null,
   "metadata": {
    "colab": {},
    "colab_type": "code",
    "id": "WfX-rTRH9aFJ",
    "outputId": "ec593331-b079-4a6e-c764-00746ed1eea2"
   },
   "outputs": [
    {
     "ename": "AttributeError",
     "evalue": "module 'rdkit.Chem' has no attribute 'GraphDescriptors'",
     "output_type": "error",
     "traceback": [
      "\u001b[1;31m---------------------------------------------------------------------------\u001b[0m",
      "\u001b[1;31mAttributeError\u001b[0m                            Traceback (most recent call last)",
      "\u001b[1;32m<ipython-input-26-57aaa24acd8a>\u001b[0m in \u001b[0;36m<module>\u001b[1;34m\u001b[0m\n\u001b[1;32m----> 1\u001b[1;33m \u001b[0mChem\u001b[0m\u001b[1;33m.\u001b[0m\u001b[0mGraphDescriptors\u001b[0m\u001b[1;33m(\u001b[0m\u001b[0mmols_3d\u001b[0m\u001b[1;33m[\u001b[0m\u001b[1;36m0\u001b[0m\u001b[1;33m]\u001b[0m\u001b[1;33m)\u001b[0m\u001b[1;33m\u001b[0m\u001b[1;33m\u001b[0m\u001b[0m\n\u001b[0m",
      "\u001b[1;31mAttributeError\u001b[0m: module 'rdkit.Chem' has no attribute 'GraphDescriptors'"
     ]
    }
   ],
   "source": [
    "Chem.GraphDescriptors(mols_3d[0])"
   ]
  },
  {
   "cell_type": "code",
   "execution_count": null,
   "metadata": {},
   "outputs": [],
   "source": []
  },
  {
   "cell_type": "code",
   "execution_count": null,
   "metadata": {},
   "outputs": [],
   "source": []
  },
  {
   "cell_type": "code",
   "execution_count": null,
   "metadata": {},
   "outputs": [],
   "source": [
    "import seaborn as sns\n",
    "prt_length = [len(prt_db.Sequence[i]) for i in range(len(prt_db))]\n",
    "hist, edges = np.histogram(prt_length, 500)\n",
    "\n",
    "sns.distplot(prt_length, bins=500, kde=False)"
   ]
  },
  {
   "cell_type": "code",
   "execution_count": null,
   "metadata": {},
   "outputs": [],
   "source": [
    "cmp_features = pd.read_csv(\"drugbank_cmp_dropUX.csv\")\n",
    "prt_db = pd.read_csv(\"drugbank_prt_dropUX.csv\")\n",
    "label_db = pd.read_csv(\"drugbank_label_dropUX.csv\")\n",
    "CTD_db = pd.read_csv(\"drugbank_CTD_dropUX.csv\")"
   ]
  },
  {
   "cell_type": "code",
   "execution_count": null,
   "metadata": {},
   "outputs": [],
   "source": [
    "label_db = label_db.drop(['Unnamed: 0'], axis=1)\n",
    "prt_db = prt_db.drop(['Unnamed: 0'], axis=1)\n",
    "cmp_features = cmp_features.drop(['Unnamed: 0'], axis=1)\n",
    "CTD_db = CTD_db.drop(['Unnamed: 0'], axis=1)"
   ]
  },
  {
   "cell_type": "code",
   "execution_count": null,
   "metadata": {},
   "outputs": [],
   "source": [
    "seq_length= [len(prt_db.Sequence[i]) for i in range(len(prt_db))]\n",
    "prt_db = prt_db.assign(length = seq_length)\n",
    "prt_db_1500 = prt_db[prt_db.length<=1500].reset_index(drop=True)\n",
    "prt_db_1500.to_csv(\"prt_db_1500.csv\", mode='w')"
   ]
  },
  {
   "cell_type": "code",
   "execution_count": null,
   "metadata": {},
   "outputs": [],
   "source": [
    "CTD_db_1500 = CTD_db[CTD_db.Protein_ID.isin(prt_db_1500[\"Protein_ID\"])].reset_index(drop=True)\n",
    "\n",
    "CTD_db_1500.to_csv(\"CTD_db_1500.csv\", mode='w')"
   ]
  },
  {
   "cell_type": "code",
   "execution_count": null,
   "metadata": {},
   "outputs": [],
   "source": [
    "label_db_1500 = label_db[label_db.Protein_ID.isin(prt_db_1500[\"Protein_ID\"])].reset_index(drop=True)\n",
    "\n",
    "label_db_1500.to_csv(\"label_db_1500.csv\", mode='w')\n"
   ]
  }
 ],
 "metadata": {
  "colab": {
   "name": "Untitled.ipynb",
   "provenance": []
  },
  "kernelspec": {
   "display_name": "Python 3",
   "language": "python",
   "name": "python3"
  },
  "language_info": {
   "codemirror_mode": {
    "name": "ipython",
    "version": 3
   },
   "file_extension": ".py",
   "mimetype": "text/x-python",
   "name": "python",
   "nbconvert_exporter": "python",
   "pygments_lexer": "ipython3",
   "version": "3.6.9"
  },
  "varInspector": {
   "cols": {
    "lenName": 16,
    "lenType": 16,
    "lenVar": 40
   },
   "kernels_config": {
    "python": {
     "delete_cmd_postfix": "",
     "delete_cmd_prefix": "del ",
     "library": "var_list.py",
     "varRefreshCmd": "print(var_dic_list())"
    },
    "r": {
     "delete_cmd_postfix": ") ",
     "delete_cmd_prefix": "rm(",
     "library": "var_list.r",
     "varRefreshCmd": "cat(var_dic_list()) "
    }
   },
   "types_to_exclude": [
    "module",
    "function",
    "builtin_function_or_method",
    "instance",
    "_Feature"
   ],
   "window_display": true
  }
 },
 "nbformat": 4,
 "nbformat_minor": 2
}
