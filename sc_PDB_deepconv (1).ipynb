{
 "cells": [
  {
   "cell_type": "code",
   "execution_count": 1,
   "metadata": {},
   "outputs": [
    {
     "name": "stderr",
     "output_type": "stream",
     "text": [
      "Using TensorFlow backend.\n",
      "/usr/local/lib/python3.6/dist-packages/tensorflow/python/framework/dtypes.py:516: FutureWarning: Passing (type, 1) or '1type' as a synonym of type is deprecated; in a future version of numpy, it will be understood as (type, (1,)) / '(1,)type'.\n",
      "  _np_qint8 = np.dtype([(\"qint8\", np.int8, 1)])\n",
      "/usr/local/lib/python3.6/dist-packages/tensorflow/python/framework/dtypes.py:517: FutureWarning: Passing (type, 1) or '1type' as a synonym of type is deprecated; in a future version of numpy, it will be understood as (type, (1,)) / '(1,)type'.\n",
      "  _np_quint8 = np.dtype([(\"quint8\", np.uint8, 1)])\n",
      "/usr/local/lib/python3.6/dist-packages/tensorflow/python/framework/dtypes.py:518: FutureWarning: Passing (type, 1) or '1type' as a synonym of type is deprecated; in a future version of numpy, it will be understood as (type, (1,)) / '(1,)type'.\n",
      "  _np_qint16 = np.dtype([(\"qint16\", np.int16, 1)])\n",
      "/usr/local/lib/python3.6/dist-packages/tensorflow/python/framework/dtypes.py:519: FutureWarning: Passing (type, 1) or '1type' as a synonym of type is deprecated; in a future version of numpy, it will be understood as (type, (1,)) / '(1,)type'.\n",
      "  _np_quint16 = np.dtype([(\"quint16\", np.uint16, 1)])\n",
      "/usr/local/lib/python3.6/dist-packages/tensorflow/python/framework/dtypes.py:520: FutureWarning: Passing (type, 1) or '1type' as a synonym of type is deprecated; in a future version of numpy, it will be understood as (type, (1,)) / '(1,)type'.\n",
      "  _np_qint32 = np.dtype([(\"qint32\", np.int32, 1)])\n",
      "/usr/local/lib/python3.6/dist-packages/tensorflow/python/framework/dtypes.py:525: FutureWarning: Passing (type, 1) or '1type' as a synonym of type is deprecated; in a future version of numpy, it will be understood as (type, (1,)) / '(1,)type'.\n",
      "  np_resource = np.dtype([(\"resource\", np.ubyte, 1)])\n",
      "/usr/local/lib/python3.6/dist-packages/tensorboard/compat/tensorflow_stub/dtypes.py:541: FutureWarning: Passing (type, 1) or '1type' as a synonym of type is deprecated; in a future version of numpy, it will be understood as (type, (1,)) / '(1,)type'.\n",
      "  _np_qint8 = np.dtype([(\"qint8\", np.int8, 1)])\n",
      "/usr/local/lib/python3.6/dist-packages/tensorboard/compat/tensorflow_stub/dtypes.py:542: FutureWarning: Passing (type, 1) or '1type' as a synonym of type is deprecated; in a future version of numpy, it will be understood as (type, (1,)) / '(1,)type'.\n",
      "  _np_quint8 = np.dtype([(\"quint8\", np.uint8, 1)])\n",
      "/usr/local/lib/python3.6/dist-packages/tensorboard/compat/tensorflow_stub/dtypes.py:543: FutureWarning: Passing (type, 1) or '1type' as a synonym of type is deprecated; in a future version of numpy, it will be understood as (type, (1,)) / '(1,)type'.\n",
      "  _np_qint16 = np.dtype([(\"qint16\", np.int16, 1)])\n",
      "/usr/local/lib/python3.6/dist-packages/tensorboard/compat/tensorflow_stub/dtypes.py:544: FutureWarning: Passing (type, 1) or '1type' as a synonym of type is deprecated; in a future version of numpy, it will be understood as (type, (1,)) / '(1,)type'.\n",
      "  _np_quint16 = np.dtype([(\"quint16\", np.uint16, 1)])\n",
      "/usr/local/lib/python3.6/dist-packages/tensorboard/compat/tensorflow_stub/dtypes.py:545: FutureWarning: Passing (type, 1) or '1type' as a synonym of type is deprecated; in a future version of numpy, it will be understood as (type, (1,)) / '(1,)type'.\n",
      "  _np_qint32 = np.dtype([(\"qint32\", np.int32, 1)])\n",
      "/usr/local/lib/python3.6/dist-packages/tensorboard/compat/tensorflow_stub/dtypes.py:550: FutureWarning: Passing (type, 1) or '1type' as a synonym of type is deprecated; in a future version of numpy, it will be understood as (type, (1,)) / '(1,)type'.\n",
      "  np_resource = np.dtype([(\"resource\", np.ubyte, 1)])\n"
     ]
    }
   ],
   "source": [
    "import numpy as np\n",
    "import pandas as pd\n",
    "import random\n",
    "import keras\n",
    "import os\n",
    "import datetime as dt\n",
    "import pickle\n",
    "\n",
    "import tensorflow as tf\n",
    "\n",
    "import keras.backend as K\n",
    "from keras.models import Model\n",
    "from keras.models import load_model\n",
    "from keras.layers import Input, Dense, Dropout, BatchNormalization, Activation, Embedding, Lambda, Layer, Bidirectional, CuDNNGRU\n",
    "from keras.layers import Convolution1D, GlobalMaxPooling1D, SpatialDropout1D ,LeakyReLU\n",
    "from keras.layers import Concatenate, add, Add\n",
    "from keras.optimizers import Adam\n",
    "from keras.regularizers import l2,l1\n",
    "from keras.preprocessing import sequence\n",
    "from keras import initializers,regularizers, constraints\n",
    "from keras.utils import to_categorical\n",
    "\n",
    "from sklearn.metrics import precision_recall_curve, auc, roc_curve, roc_auc_score\n",
    "\n",
    "os.environ[\"CUDA_VISIBLE_DEVICES\"]=\"0\"\n"
   ]
  },
  {
   "cell_type": "code",
   "execution_count": 2,
   "metadata": {},
   "outputs": [
    {
     "name": "stdout",
     "output_type": "stream",
     "text": [
      "1.14.0\n",
      "2.2.4\n"
     ]
    }
   ],
   "source": [
    "print(tf.__version__)\n",
    "print(keras.__version__)\n"
   ]
  },
  {
   "cell_type": "code",
   "execution_count": 3,
   "metadata": {},
   "outputs": [],
   "source": [
    "with open(\"fp_db.pkl\",\"rb\") as fp:\n",
    "    fp_db = pickle.load(fp,encoding='latin1')\n",
    "    \n",
    "with open(\"prt_db.pkl\",\"rb\") as pr:\n",
    "    prt_db = pickle.load(pr,encoding='latin1')\n",
    "    \n",
    "for i in range(len(fp_db)):\n",
    "    fp_db.fp[i] = np.array(list(fp_db.fp[i]), dtype=int)"
   ]
  },
  {
   "cell_type": "code",
   "execution_count": 4,
   "metadata": {},
   "outputs": [
    {
     "data": {
      "text/html": [
       "<div>\n",
       "<style scoped>\n",
       "    .dataframe tbody tr th:only-of-type {\n",
       "        vertical-align: middle;\n",
       "    }\n",
       "\n",
       "    .dataframe tbody tr th {\n",
       "        vertical-align: top;\n",
       "    }\n",
       "\n",
       "    .dataframe thead th {\n",
       "        text-align: right;\n",
       "    }\n",
       "</style>\n",
       "<table border=\"1\" class=\"dataframe\">\n",
       "  <thead>\n",
       "    <tr style=\"text-align: right;\">\n",
       "      <th></th>\n",
       "      <th>name</th>\n",
       "      <th>scpdb_id</th>\n",
       "      <th>fp</th>\n",
       "    </tr>\n",
       "  </thead>\n",
       "  <tbody>\n",
       "    <tr>\n",
       "      <th>0</th>\n",
       "      <td>TES</td>\n",
       "      <td>1jtv_1</td>\n",
       "      <td>[0, 0, 0, 0, 0, 0, 0, 1, 0, 0, 0, 0, 0, 0, 0, ...</td>\n",
       "    </tr>\n",
       "    <tr>\n",
       "      <th>1</th>\n",
       "      <td>FAD</td>\n",
       "      <td>4ylf_3</td>\n",
       "      <td>[0, 1, 0, 0, 0, 0, 0, 0, 0, 1, 0, 0, 0, 0, 0, ...</td>\n",
       "    </tr>\n",
       "    <tr>\n",
       "      <th>2</th>\n",
       "      <td>SAM</td>\n",
       "      <td>3lcv_1</td>\n",
       "      <td>[0, 1, 0, 0, 0, 0, 0, 0, 0, 1, 0, 0, 0, 0, 0, ...</td>\n",
       "    </tr>\n",
       "    <tr>\n",
       "      <th>3</th>\n",
       "      <td>ADP</td>\n",
       "      <td>4jl5_1</td>\n",
       "      <td>[0, 0, 0, 0, 0, 0, 0, 0, 0, 1, 0, 0, 0, 0, 0, ...</td>\n",
       "    </tr>\n",
       "    <tr>\n",
       "      <th>4</th>\n",
       "      <td>YM8</td>\n",
       "      <td>2ym8_1</td>\n",
       "      <td>[0, 1, 0, 0, 0, 0, 1, 0, 0, 0, 0, 0, 0, 0, 0, ...</td>\n",
       "    </tr>\n",
       "    <tr>\n",
       "      <th>...</th>\n",
       "      <td>...</td>\n",
       "      <td>...</td>\n",
       "      <td>...</td>\n",
       "    </tr>\n",
       "    <tr>\n",
       "      <th>17587</th>\n",
       "      <td>GSI</td>\n",
       "      <td>2vh0_1</td>\n",
       "      <td>[0, 0, 0, 0, 0, 1, 0, 0, 0, 0, 0, 0, 0, 0, 0, ...</td>\n",
       "    </tr>\n",
       "    <tr>\n",
       "      <th>17588</th>\n",
       "      <td>ACO</td>\n",
       "      <td>3csc_1</td>\n",
       "      <td>[0, 1, 0, 0, 0, 0, 0, 0, 0, 1, 0, 0, 0, 1, 0, ...</td>\n",
       "    </tr>\n",
       "    <tr>\n",
       "      <th>17589</th>\n",
       "      <td>SAH</td>\n",
       "      <td>2pch_1</td>\n",
       "      <td>[0, 1, 0, 0, 0, 0, 0, 0, 0, 1, 0, 0, 0, 0, 0, ...</td>\n",
       "    </tr>\n",
       "    <tr>\n",
       "      <th>17590</th>\n",
       "      <td>BTN</td>\n",
       "      <td>4gda_1</td>\n",
       "      <td>[0, 0, 0, 0, 0, 0, 0, 0, 0, 0, 0, 0, 0, 0, 0, ...</td>\n",
       "    </tr>\n",
       "    <tr>\n",
       "      <th>17591</th>\n",
       "      <td>F59</td>\n",
       "      <td>2qln_1</td>\n",
       "      <td>[0, 0, 0, 0, 0, 0, 0, 0, 0, 0, 0, 0, 0, 1, 0, ...</td>\n",
       "    </tr>\n",
       "  </tbody>\n",
       "</table>\n",
       "<p>17592 rows × 3 columns</p>\n",
       "</div>"
      ],
      "text/plain": [
       "      name scpdb_id                                                 fp\n",
       "0      TES   1jtv_1  [0, 0, 0, 0, 0, 0, 0, 1, 0, 0, 0, 0, 0, 0, 0, ...\n",
       "1      FAD   4ylf_3  [0, 1, 0, 0, 0, 0, 0, 0, 0, 1, 0, 0, 0, 0, 0, ...\n",
       "2      SAM   3lcv_1  [0, 1, 0, 0, 0, 0, 0, 0, 0, 1, 0, 0, 0, 0, 0, ...\n",
       "3      ADP   4jl5_1  [0, 0, 0, 0, 0, 0, 0, 0, 0, 1, 0, 0, 0, 0, 0, ...\n",
       "4      YM8   2ym8_1  [0, 1, 0, 0, 0, 0, 1, 0, 0, 0, 0, 0, 0, 0, 0, ...\n",
       "...    ...      ...                                                ...\n",
       "17587  GSI   2vh0_1  [0, 0, 0, 0, 0, 1, 0, 0, 0, 0, 0, 0, 0, 0, 0, ...\n",
       "17588  ACO   3csc_1  [0, 1, 0, 0, 0, 0, 0, 0, 0, 1, 0, 0, 0, 1, 0, ...\n",
       "17589  SAH   2pch_1  [0, 1, 0, 0, 0, 0, 0, 0, 0, 1, 0, 0, 0, 0, 0, ...\n",
       "17590  BTN   4gda_1  [0, 0, 0, 0, 0, 0, 0, 0, 0, 0, 0, 0, 0, 0, 0, ...\n",
       "17591  F59   2qln_1  [0, 0, 0, 0, 0, 0, 0, 0, 0, 0, 0, 0, 0, 1, 0, ...\n",
       "\n",
       "[17592 rows x 3 columns]"
      ]
     },
     "execution_count": 4,
     "metadata": {},
     "output_type": "execute_result"
    }
   ],
   "source": [
    "fp_db"
   ]
  },
  {
   "cell_type": "code",
   "execution_count": 5,
   "metadata": {},
   "outputs": [
    {
     "data": {
      "text/html": [
       "<div>\n",
       "<style scoped>\n",
       "    .dataframe tbody tr th:only-of-type {\n",
       "        vertical-align: middle;\n",
       "    }\n",
       "\n",
       "    .dataframe tbody tr th {\n",
       "        vertical-align: top;\n",
       "    }\n",
       "\n",
       "    .dataframe thead th {\n",
       "        text-align: right;\n",
       "    }\n",
       "</style>\n",
       "<table border=\"1\" class=\"dataframe\">\n",
       "  <thead>\n",
       "    <tr style=\"text-align: right;\">\n",
       "      <th></th>\n",
       "      <th>scpdb_id</th>\n",
       "      <th>seq</th>\n",
       "      <th>binding</th>\n",
       "    </tr>\n",
       "  </thead>\n",
       "  <tbody>\n",
       "    <tr>\n",
       "      <th>0</th>\n",
       "      <td>1jtv_1</td>\n",
       "      <td>[ALA, ARG, THR, VAL, VAL, LEU, ILE, THR, GLY, ...</td>\n",
       "      <td>[0, 0, 0, 0, 0, 0, 0, 0, 0, 0, 0, 0, 0, 0, 0, ...</td>\n",
       "    </tr>\n",
       "    <tr>\n",
       "      <th>1</th>\n",
       "      <td>4ylf_3</td>\n",
       "      <td>[MET, GLY, GLY, THR, ALA, LEU, ASN, GLU, ILE, ...</td>\n",
       "      <td>[0, 0, 0, 0, 0, 0, 0, 0, 0, 0, 0, 0, 0, 0, 0, ...</td>\n",
       "    </tr>\n",
       "    <tr>\n",
       "      <th>2</th>\n",
       "      <td>3lcv_1</td>\n",
       "      <td>[ASP, ARG, ILE, ASP, GLU, ILE, GLU, ARG, ALA, ...</td>\n",
       "      <td>[0, 0, 0, 0, 0, 0, 0, 0, 0, 0, 0, 0, 0, 0, 0, ...</td>\n",
       "    </tr>\n",
       "    <tr>\n",
       "      <th>3</th>\n",
       "      <td>4jl5_1</td>\n",
       "      <td>[MET, ILE, LEU, VAL, PHE, LEU, GLY, PRO, PRO, ...</td>\n",
       "      <td>[0, 0, 0, 0, 0, 0, 1, 1, 1, 1, 1, 1, 1, 1, 1, ...</td>\n",
       "    </tr>\n",
       "    <tr>\n",
       "      <th>4</th>\n",
       "      <td>2ym8_1</td>\n",
       "      <td>[ASP, TRP, ASP, LEU, VAL, GLN, THR, LEU, GLY, ...</td>\n",
       "      <td>[0, 0, 0, 0, 0, 1, 0, 1, 1, 0, 1, 0, 0, 0, 0, ...</td>\n",
       "    </tr>\n",
       "    <tr>\n",
       "      <th>...</th>\n",
       "      <td>...</td>\n",
       "      <td>...</td>\n",
       "      <td>...</td>\n",
       "    </tr>\n",
       "    <tr>\n",
       "      <th>17587</th>\n",
       "      <td>2vh0_1</td>\n",
       "      <td>[ILE, VAL, GLY, GLY, GLN, GLU, CYS, LYS, ASP, ...</td>\n",
       "      <td>[0, 0, 0, 0, 0, 0, 0, 0, 0, 0, 0, 0, 0, 0, 0, ...</td>\n",
       "    </tr>\n",
       "    <tr>\n",
       "      <th>17588</th>\n",
       "      <td>3csc_1</td>\n",
       "      <td>[ALA, SER, SER, THR, ASN, LEU, LYS, ASP, VAL, ...</td>\n",
       "      <td>[0, 0, 0, 0, 0, 0, 0, 0, 0, 0, 0, 0, 0, 0, 0, ...</td>\n",
       "    </tr>\n",
       "    <tr>\n",
       "      <th>17589</th>\n",
       "      <td>2pch_1</td>\n",
       "      <td>[MET, VAL, LEU, TYR, PHE, ILE, GLY, LEU, GLY, ...</td>\n",
       "      <td>[0, 0, 0, 0, 0, 0, 0, 0, 1, 1, 1, 0, 0, 0, 0, ...</td>\n",
       "    </tr>\n",
       "    <tr>\n",
       "      <th>17590</th>\n",
       "      <td>4gda_1</td>\n",
       "      <td>[ALA, GLU, SER, ARG, TYR, VAL, LEU, THR, GLY, ...</td>\n",
       "      <td>[0, 0, 0, 0, 0, 0, 0, 0, 0, 0, 0, 0, 0, 0, 0, ...</td>\n",
       "    </tr>\n",
       "    <tr>\n",
       "      <th>17591</th>\n",
       "      <td>2qln_1</td>\n",
       "      <td>[GLN, ILE, SER, VAL, ARG, GLY, LEU, ALA, GLY, ...</td>\n",
       "      <td>[0, 0, 0, 0, 0, 0, 0, 0, 0, 0, 0, 0, 0, 0, 0, ...</td>\n",
       "    </tr>\n",
       "  </tbody>\n",
       "</table>\n",
       "<p>17592 rows × 3 columns</p>\n",
       "</div>"
      ],
      "text/plain": [
       "      scpdb_id                                                seq  \\\n",
       "0       1jtv_1  [ALA, ARG, THR, VAL, VAL, LEU, ILE, THR, GLY, ...   \n",
       "1       4ylf_3  [MET, GLY, GLY, THR, ALA, LEU, ASN, GLU, ILE, ...   \n",
       "2       3lcv_1  [ASP, ARG, ILE, ASP, GLU, ILE, GLU, ARG, ALA, ...   \n",
       "3       4jl5_1  [MET, ILE, LEU, VAL, PHE, LEU, GLY, PRO, PRO, ...   \n",
       "4       2ym8_1  [ASP, TRP, ASP, LEU, VAL, GLN, THR, LEU, GLY, ...   \n",
       "...        ...                                                ...   \n",
       "17587   2vh0_1  [ILE, VAL, GLY, GLY, GLN, GLU, CYS, LYS, ASP, ...   \n",
       "17588   3csc_1  [ALA, SER, SER, THR, ASN, LEU, LYS, ASP, VAL, ...   \n",
       "17589   2pch_1  [MET, VAL, LEU, TYR, PHE, ILE, GLY, LEU, GLY, ...   \n",
       "17590   4gda_1  [ALA, GLU, SER, ARG, TYR, VAL, LEU, THR, GLY, ...   \n",
       "17591   2qln_1  [GLN, ILE, SER, VAL, ARG, GLY, LEU, ALA, GLY, ...   \n",
       "\n",
       "                                                 binding  \n",
       "0      [0, 0, 0, 0, 0, 0, 0, 0, 0, 0, 0, 0, 0, 0, 0, ...  \n",
       "1      [0, 0, 0, 0, 0, 0, 0, 0, 0, 0, 0, 0, 0, 0, 0, ...  \n",
       "2      [0, 0, 0, 0, 0, 0, 0, 0, 0, 0, 0, 0, 0, 0, 0, ...  \n",
       "3      [0, 0, 0, 0, 0, 0, 1, 1, 1, 1, 1, 1, 1, 1, 1, ...  \n",
       "4      [0, 0, 0, 0, 0, 1, 0, 1, 1, 0, 1, 0, 0, 0, 0, ...  \n",
       "...                                                  ...  \n",
       "17587  [0, 0, 0, 0, 0, 0, 0, 0, 0, 0, 0, 0, 0, 0, 0, ...  \n",
       "17588  [0, 0, 0, 0, 0, 0, 0, 0, 0, 0, 0, 0, 0, 0, 0, ...  \n",
       "17589  [0, 0, 0, 0, 0, 0, 0, 0, 1, 1, 1, 0, 0, 0, 0, ...  \n",
       "17590  [0, 0, 0, 0, 0, 0, 0, 0, 0, 0, 0, 0, 0, 0, 0, ...  \n",
       "17591  [0, 0, 0, 0, 0, 0, 0, 0, 0, 0, 0, 0, 0, 0, 0, ...  \n",
       "\n",
       "[17592 rows x 3 columns]"
      ]
     },
     "execution_count": 5,
     "metadata": {},
     "output_type": "execute_result"
    }
   ],
   "source": [
    "prt_db\n"
   ]
  },
  {
   "cell_type": "code",
   "execution_count": 6,
   "metadata": {},
   "outputs": [
    {
     "name": "stdout",
     "output_type": "stream",
     "text": [
      "min:  17\n",
      "max:  1504\n"
     ]
    },
    {
     "data": {
      "image/png": "[encoded data removed]",
      "text/plain": [
       "<Figure size 432x288 with 1 Axes>"
      ]
     },
     "metadata": {
      "needs_background": "light"
     },
     "output_type": "display_data"
    }
   ],
   "source": [
    "len_seq = [len(prt_db.seq[i]) for i in range(len(prt_db)) ]\n",
    "\n",
    "# 단백질 시퀀스의 길이\n",
    "import seaborn as sns\n",
    "prt_length = [len(prt_db.seq[i]) for i in range(len(prt_db))]\n",
    "hist, edges = np.histogram(prt_length, 500)\n",
    "\n",
    "sns.distplot(prt_length, bins=500, kde=False)\n",
    "\n",
    "print('min: ', np.min(len_seq))\n",
    "print('max: ', np.max(len_seq))\n",
    "AA_len = np.max(len_seq)"
   ]
  },
  {
   "cell_type": "code",
   "execution_count": 7,
   "metadata": {},
   "outputs": [
    {
     "data": {
      "text/plain": [
       "20"
      ]
     },
     "execution_count": 7,
     "metadata": {},
     "output_type": "execute_result"
    }
   ],
   "source": [
    "# AA_list=[]\n",
    "# for i in range(len(prt_db.seq)):\n",
    "#     AA_list = AA_list+list(set(prt_db.seq[i]))\n",
    "    \n",
    "# AA_list = set(AA_list)\n",
    "# AA_list = list(AA_list)\n",
    "# AA_list.sort()\n",
    "# len(AA_list)\n",
    "# # database에 있는 단백질 시퀀스에서 사용되는 아미노산의 종류\n",
    "AA_list = ['ALA', 'ARG', 'ASN', 'ASP', 'CYS', 'GLN', 'GLU', 'GLY', 'HIS',\n",
    "       'ILE', 'LEU', 'LYS', 'MET', 'PHE', 'PRO', 'SER', 'THR', 'TRP',\n",
    "       'TYR', 'VAL']\n",
    "len(AA_list)"
   ]
  },
  {
   "cell_type": "code",
   "execution_count": 8,
   "metadata": {},
   "outputs": [
    {
     "data": {
      "text/plain": [
       "{'ALA': 1,\n",
       " 'ARG': 2,\n",
       " 'ASN': 3,\n",
       " 'ASP': 4,\n",
       " 'CYS': 5,\n",
       " 'GLN': 6,\n",
       " 'GLU': 7,\n",
       " 'GLY': 8,\n",
       " 'HIS': 9,\n",
       " 'ILE': 10,\n",
       " 'LEU': 11,\n",
       " 'LYS': 12,\n",
       " 'MET': 13,\n",
       " 'PHE': 14,\n",
       " 'PRO': 15,\n",
       " 'SER': 16,\n",
       " 'THR': 17,\n",
       " 'TRP': 18,\n",
       " 'TYR': 19,\n",
       " 'VAL': 20}"
      ]
     },
     "execution_count": 8,
     "metadata": {},
     "output_type": "execute_result"
    }
   ],
   "source": [
    "seq_dic = {w: i+1 for i,w in enumerate(AA_list)}\n",
    "seq_dic"
   ]
  },
  {
   "cell_type": "code",
   "execution_count": 9,
   "metadata": {},
   "outputs": [
    {
     "data": {
      "text/plain": [
       "0        [ALA, ARG, THR, VAL, VAL, LEU, ILE, THR, GLY, ...\n",
       "1        [MET, GLY, GLY, THR, ALA, LEU, ASN, GLU, ILE, ...\n",
       "2        [ASP, ARG, ILE, ASP, GLU, ILE, GLU, ARG, ALA, ...\n",
       "3        [MET, ILE, LEU, VAL, PHE, LEU, GLY, PRO, PRO, ...\n",
       "4        [ASP, TRP, ASP, LEU, VAL, GLN, THR, LEU, GLY, ...\n",
       "                               ...                        \n",
       "17587    [ILE, VAL, GLY, GLY, GLN, GLU, CYS, LYS, ASP, ...\n",
       "17588    [ALA, SER, SER, THR, ASN, LEU, LYS, ASP, VAL, ...\n",
       "17589    [MET, VAL, LEU, TYR, PHE, ILE, GLY, LEU, GLY, ...\n",
       "17590    [ALA, GLU, SER, ARG, TYR, VAL, LEU, THR, GLY, ...\n",
       "17591    [GLN, ILE, SER, VAL, ARG, GLY, LEU, ALA, GLY, ...\n",
       "Name: seq, Length: 17592, dtype: object"
      ]
     },
     "execution_count": 9,
     "metadata": {},
     "output_type": "execute_result"
    }
   ],
   "source": [
    "prt_db.seq\n"
   ]
  },
  {
   "cell_type": "code",
   "execution_count": 10,
   "metadata": {},
   "outputs": [
    {
     "data": {
      "text/plain": [
       "array([[ 1,  2, 17, ...,  0,  0,  0],\n",
       "       [13,  8,  8, ...,  0,  0,  0],\n",
       "       [ 4,  2, 10, ...,  0,  0,  0],\n",
       "       ...,\n",
       "       [13, 20, 11, ...,  0,  0,  0],\n",
       "       [ 1,  7, 16, ...,  0,  0,  0],\n",
       "       [ 6, 10, 16, ...,  0,  0,  0]], dtype=int32)"
      ]
     },
     "execution_count": 10,
     "metadata": {},
     "output_type": "execute_result"
    }
   ],
   "source": [
    "def encodeSeq(seq, seq_dic):\n",
    "    if pd.isnull(seq):\n",
    "        return [0]\n",
    "    else:\n",
    "        return [seq_dic[aa] for aa in seq]\n",
    "    \n",
    "prt_en = pd.Series([ np.array([seq_dic[aa] for aa in prt_db.seq[i]]) for i in range(len(prt_db))])\n",
    "prt_en_pad = sequence.pad_sequences(prt_en,AA_len,padding='post')\n",
    "prt_en_pad\n",
    "# 단백질 시퀀스 인코딩하고 패딩."
   ]
  },
  {
   "cell_type": "code",
   "execution_count": 11,
   "metadata": {},
   "outputs": [
    {
     "data": {
      "text/plain": [
       "0        [0, 0, 0, 0, 0, 0, 0, 0, 0, 0, 0, 0, 0, 0, 0, ...\n",
       "1        [0, 0, 0, 0, 0, 0, 0, 0, 0, 0, 0, 0, 0, 0, 0, ...\n",
       "2        [0, 0, 0, 0, 0, 0, 0, 0, 0, 0, 0, 0, 0, 0, 0, ...\n",
       "3        [0, 0, 0, 0, 0, 0, 1, 1, 1, 1, 1, 1, 1, 1, 1, ...\n",
       "4        [0, 0, 0, 0, 0, 1, 0, 1, 1, 0, 1, 0, 0, 0, 0, ...\n",
       "                               ...                        \n",
       "17587    [0, 0, 0, 0, 0, 0, 0, 0, 0, 0, 0, 0, 0, 0, 0, ...\n",
       "17588    [0, 0, 0, 0, 0, 0, 0, 0, 0, 0, 0, 0, 0, 0, 0, ...\n",
       "17589    [0, 0, 0, 0, 0, 0, 0, 0, 1, 1, 1, 0, 0, 0, 0, ...\n",
       "17590    [0, 0, 0, 0, 0, 0, 0, 0, 0, 0, 0, 0, 0, 0, 0, ...\n",
       "17591    [0, 0, 0, 0, 0, 0, 0, 0, 0, 0, 0, 0, 0, 0, 0, ...\n",
       "Name: binding, Length: 17592, dtype: object"
      ]
     },
     "execution_count": 11,
     "metadata": {},
     "output_type": "execute_result"
    }
   ],
   "source": [
    "prt_db.binding\n"
   ]
  },
  {
   "cell_type": "code",
   "execution_count": 12,
   "metadata": {},
   "outputs": [],
   "source": [
    "binding_label_pad = sequence.pad_sequences(prt_db.binding,AA_len,padding='post')"
   ]
  },
  {
   "cell_type": "code",
   "execution_count": 13,
   "metadata": {},
   "outputs": [],
   "source": [
    "drug_len = 1024 # 컴파운드의 피쳐수\n",
    "AA_len = AA_len #1504 아미노산 인코딩 길이\n",
    "\n",
    "\n",
    "learning_rate = 0.001\n",
    "initializer = 'glorot_normal'\n",
    "regularizer_param = 0.01\n",
    "dropout = 0.2\n",
    "activation = 'relu'\n",
    "\n",
    "\n",
    "batch_size =  20 # 전체 라벨 수가 배수가 되어야함\n",
    "epochs = 10000 #최대 "
   ]
  },
  {
   "cell_type": "code",
   "execution_count": 17,
   "metadata": {},
   "outputs": [],
   "source": [
    "def dice_score(y_true, y_pred):\n",
    "    smooth = 1e-08\n",
    "    y_true_f = K.flatten(y_true)\n",
    "    y_pred_f = K.flatten(y_pred)\n",
    "    intersection = K.sum(y_true_f * y_pred_f)\n",
    "    loss = (2. * intersection + smooth) / (K.sum(y_true_f) + K.sum(y_pred_f) + smooth)\n",
    "\n",
    "    return loss\n",
    "\n",
    "def dice_loss(y_true, y_pred):\n",
    "    return 1 - dice_score(y_true, y_pred) + 0.1*keras.losses.binary_crossentropy(y_true, y_pred)\n",
    "\n",
    "def tversky(y_true, y_pred):\n",
    "    smooth = 1e-08\n",
    "    y_true_pos = K.flatten(y_true)\n",
    "    y_pred_pos = K.flatten(y_pred)\n",
    "    true_pos = K.sum(y_true_pos * y_pred_pos)\n",
    "    false_neg = K.sum(y_true_pos * (1-y_pred_pos))\n",
    "    false_pos = K.sum((1-y_true_pos)*y_pred_pos)\n",
    "    alpha = 0.8\n",
    "    return (true_pos + smooth)/(true_pos + alpha*false_neg + (1-alpha)*false_pos + smooth)\n",
    "\n",
    "def tversky_loss(y_true, y_pred):\n",
    "    return 1 - tversky(y_true,y_pred)\n",
    "\n",
    "def focal_tversky(y_true,y_pred):\n",
    "    pt_1 = tversky(y_true, y_pred)\n",
    "    gamma = 0.75\n",
    "    return K.pow((1-pt_1), gamma)\n",
    "\n",
    "\n",
    "def score_f1(y_true, y_pred): #taken from old keras source code\n",
    "    true_positives = K.sum(K.round(K.clip(y_true * y_pred, 0, 1)))\n",
    "    possible_positives = K.sum(K.round(K.clip(y_true, 0, 1)))\n",
    "    predicted_positives = K.sum(K.round(K.clip(y_pred, 0, 1)))\n",
    "    precision = true_positives / (predicted_positives + K.epsilon())\n",
    "    recall = true_positives / (possible_positives + K.epsilon())\n",
    "    f1_val = 2*(precision*recall)/(precision+recall+K.epsilon())\n",
    "    return f1_val\n",
    "\n",
    "\n",
    "def dot_product(x, kernel):\n",
    "    if K.backend() == 'tensorflow':\n",
    "        return K.squeeze(K.dot(x, K.expand_dims(kernel)), axis=-1)\n",
    "    else:\n",
    "        return K.dot(x, kernel)\n",
    "\n",
    "class AttentionWithContext(Layer):\n",
    "    def __init__(self,\n",
    "                 W_regularizer=None, u_regularizer=None, b_regularizer=None,\n",
    "                 W_constraint=None, u_constraint=None, b_constraint=None,\n",
    "                 bias=True, **kwargs):\n",
    "        self.supports_masking = True\n",
    "        self.init = initializers.get('glorot_uniform')\n",
    "        self.W_regularizer = regularizers.get(W_regularizer)\n",
    "        self.u_regularizer = regularizers.get(u_regularizer)\n",
    "        self.b_regularizer = regularizers.get(b_regularizer)\n",
    "        self.W_constraint = constraints.get(W_constraint)\n",
    "        self.u_constraint = constraints.get(u_constraint)\n",
    "        self.b_constraint = constraints.get(b_constraint)\n",
    "        self.bias = bias\n",
    "        super(AttentionWithContext, self).__init__(**kwargs)\n",
    "\n",
    "    def build(self, input_shape):\n",
    "        assert len(input_shape) == 3\n",
    "        self.W = self.add_weight(shape=(input_shape[-1], input_shape[-1],),\n",
    "                                 initializer=self.init,\n",
    "                                 name='{}_W'.format(self.name),\n",
    "                                 regularizer=self.W_regularizer,\n",
    "                                 constraint=self.W_constraint)\n",
    "        if self.bias:\n",
    "            self.b = self.add_weight(shape=(input_shape[-1],),\n",
    "                                     initializer='zero',\n",
    "                                     name='{}_b'.format(self.name),\n",
    "                                     regularizer=self.b_regularizer,\n",
    "                                     constraint=self.b_constraint)\n",
    "            self.u = self.add_weight(shape=(input_shape[-1],),\n",
    "                                 initializer=self.init,\n",
    "                                 name='{}_u'.format(self.name),\n",
    "                                 regularizer=self.u_regularizer,\n",
    "                                 constraint=self.u_constraint)\n",
    "        super(AttentionWithContext, self).build(input_shape)\n",
    "\n",
    "    def compute_mask(self, input, input_mask=None):\n",
    "        return None\n",
    "\n",
    "    def call(self, x, mask=None):\n",
    "        uit = dot_product(x, self.W)\n",
    "        if self.bias:\n",
    "            uit += self.b\n",
    "        uit = K.tanh(uit)\n",
    "        ait = dot_product(uit, self.u)\n",
    "        a = K.exp(ait)\n",
    "        if mask is not None:\n",
    "            a *= K.cast(mask, K.floatx())\n",
    "        a /= K.cast(K.sum(a, axis=1, keepdims=True) + K.epsilon(), K.floatx())\n",
    "        a = K.expand_dims(a)\n",
    "        weighted_input = x * a\n",
    "        return K.sum(weighted_input, axis=1)\n",
    "\n",
    "    def compute_output_shape(self, input_shape):\n",
    "        return input_shape[0], input_shape[-1]"
   ]
  },
  {
   "cell_type": "code",
   "execution_count": 18,
   "metadata": {},
   "outputs": [],
   "source": [
    "def dti_model(drug_len, AA_len, initializer, regularizer_param, dropout, activation):\n",
    "    \n",
    "    params_dic = {\"kernel_initializer\": initializer,\n",
    "                  \"kernel_regularizer\": l2(regularizer_param),\n",
    "        }\n",
    "    \n",
    "    \n",
    "    #protein target\n",
    "    def prt_conv(prt_crop, filters, kernel_size, strides, activation=activation, params_dic = params_dic) : \n",
    "\n",
    "        prt_em = Embedding(20,20, embeddings_initializer=initializer,embeddings_regularizer=l2(regularizer_param))(prt_input)\n",
    "        prt = SpatialDropout1D(0.2)(prt_em)\n",
    "        \n",
    "        prt1 = Convolution1D(filters=filters, kernel_size=kernel_size, strides=strides, padding='same',**params_dic)(prt)\n",
    "        prt = BatchNormalization()(prt1)\n",
    "        prt = Activation(activation)(prt)\n",
    "        prt = Convolution1D(filters=8, kernel_size=5, strides=strides, padding='same', **params_dic)(prt)\n",
    "        prt = Concatenate(axis=-1)([prt, prt1])\n",
    "        prt = BatchNormalization()(prt)\n",
    "        prt = Activation(activation)(prt)\n",
    "    \n",
    "        \n",
    "        #prt = GlobalMaxPooling1D()(prt)\n",
    "        \n",
    "        prt = Bidirectional(CuDNNGRU(128, input_shape=(AA_len,64),return_sequences=True,return_state=False))(prt)\n",
    "        prt = LeakyReLU(alpha=0.3)(prt)\n",
    "        prt = AttentionWithContext()(prt)\n",
    "        prt = BatchNormalization()(prt)\n",
    "        prt = LeakyReLU(alpha=0.3)(prt)\n",
    "        \n",
    "        return prt\n",
    "    \n",
    "    \n",
    "    #compound\n",
    "    def compoud_dense(cmp_input,activation=activation,dropout=dropout, params_dic = params_dic):\n",
    "        \n",
    "        cmp = Dense(256,**params_dic)(cmp_input) # dense BN activation Dropout 순서는.. ?\n",
    "        cmp = BatchNormalization()(cmp)\n",
    "        cmp = Activation(activation)(cmp)\n",
    "        #cmp = Dropout(dropout)(cmp)\n",
    "\n",
    "        cmp = Dense(128,**params_dic)(cmp)\n",
    "        cmp = BatchNormalization()(cmp)\n",
    "        cmp = Activation(activation)(cmp)\n",
    "        #cmp = Dropout(dropout)(cmp)\n",
    "        \n",
    "        cmp = Dense(64,**params_dic)(cmp)\n",
    "        cmp = BatchNormalization()(cmp)\n",
    "        cmp = Activation(activation)(cmp)\n",
    "        #cmp = Dropout(dropout)(cmp)\n",
    "        \n",
    "        return cmp\n",
    "    \n",
    "\n",
    "\n",
    "    \n",
    "    cmp_input = Input(shape=(drug_len,))\n",
    "    prt_input = Input(shape=(AA_len,))\n",
    "    \n",
    "    cmp = compoud_dense(cmp_input)\n",
    "    \n",
    "    prt = prt_conv(prt_input, 16, 10,1,activation,params_dic)\n",
    "    \n",
    "        \n",
    "    \n",
    "    \n",
    "    # concat     \n",
    "    model_t = Concatenate(axis=1)([cmp, prt])\n",
    "    \n",
    "    model_t = Dense(AA_len)(model_t)\n",
    "    model_t = BatchNormalization()(model_t)\n",
    "    model_t = Activation(activation)(model_t)\n",
    "    \n",
    "    model_t = Dense(AA_len)(model_t)\n",
    "    model_t = BatchNormalization()(model_t)\n",
    "    model_t = Activation(activation)(model_t)\n",
    "\n",
    "    \n",
    "    \n",
    "    binding_site = Dense(AA_len, activation='sigmoid')(model_t)#, activity_regularizer=l2(regularizer_param))(model_t)\n",
    "    #number = Dense(1, activation='sigmoid')(model_t)\n",
    "   \n",
    "    \n",
    "    model = Model(inputs=[cmp_input,prt_input], outputs=binding_site)\n",
    "    \n",
    "    return model"
   ]
  },
  {
   "cell_type": "code",
   "execution_count": 19,
   "metadata": {
    "scrolled": true
   },
   "outputs": [],
   "source": [
    "model = dti_model(drug_len = drug_len,\n",
    "                  AA_len = AA_len,\n",
    "                  initializer =initializer,\n",
    "                  regularizer_param = regularizer_param,\n",
    "                  dropout = dropout,\n",
    "                  activation = activation)\n",
    "\n",
    "opt = Adam(lr=learning_rate, decay=1e-08 )\n",
    "model.compile(optimizer=opt, loss=focal_tversky, metrics=['binary_accuracy', score_f1, dice_score])\n",
    "\n",
    "#model.summary()"
   ]
  },
  {
   "cell_type": "code",
   "execution_count": 20,
   "metadata": {},
   "outputs": [],
   "source": [
    "label_len =[]\n",
    "for i in range(len(prt_db.binding)):\n",
    "    label_len.append(len(prt_db.binding[i]))\n",
    "\n",
    "label_len = np.asarray(label_len).reshape(len(label_len),1)\n"
   ]
  },
  {
   "cell_type": "code",
   "execution_count": 21,
   "metadata": {},
   "outputs": [],
   "source": [
    "# binding_label_pad -> 바인딩 사이트 라벨 (패딩됨)\n",
    "# prt_en_pad -> 인코딩된 시퀀스 (패딩됨)\n",
    "# np.vstack(fp_db.fp.values) -> 핑거프린트 (길이 1024) \n",
    "\n",
    "\n",
    "# 6: 2 :2 ->10555 / 3518 / 3519 개로 나뉨\n",
    "from sklearn.model_selection import train_test_split\n",
    "cmp_train, cmp_valtest, prt_train, prt_valtest, label_train, label_valtest, z_train, z_valtest = train_test_split(\n",
    "    np.vstack(fp_db.fp.values), prt_en_pad, binding_label_pad, label_len\n",
    "                                        ,test_size=0.4,random_state=42)\n",
    "\n",
    "cmp_valid, cmp_test, prt_valid, prt_test, label_valid, label_test, z_valid, z_test  = train_test_split(\n",
    "    cmp_valtest, prt_valtest, label_valtest, z_valtest\n",
    "                                        ,test_size=0.5,random_state=42)"
   ]
  },
  {
   "cell_type": "code",
   "execution_count": 22,
   "metadata": {},
   "outputs": [
    {
     "name": "stdout",
     "output_type": "stream",
     "text": [
      "10555\n",
      "3518\n",
      "3519\n"
     ]
    }
   ],
   "source": [
    "print(len(cmp_train))\n",
    "print(len(cmp_valid))\n",
    "print(len(cmp_test))"
   ]
  },
  {
   "cell_type": "code",
   "execution_count": 24,
   "metadata": {},
   "outputs": [],
   "source": [
    "from keras.callbacks import EarlyStopping\n",
    "from keras.callbacks import ModelCheckpoint\n",
    "\n",
    "es = EarlyStopping(monitor='val_loss', mode='min', verbose=1, patience= 50)\n",
    "mc = ModelCheckpoint('best_model.h5', monitor='val_loss', mode='min', save_best_only=True)"
   ]
  },
  {
   "cell_type": "code",
   "execution_count": 25,
   "metadata": {},
   "outputs": [
    {
     "name": "stdout",
     "output_type": "stream",
     "text": [
      "WARNING:tensorflow:From /usr/local/lib/python3.6/dist-packages/tensorflow/python/ops/math_grad.py:1205: add_dispatch_support.<locals>.wrapper (from tensorflow.python.ops.array_ops) is deprecated and will be removed in a future version.\n",
      "Instructions for updating:\n",
      "Use tf.where in 2.0, which has the same broadcast rule as np.where\n",
      "Train on 10555 samples, validate on 3518 samples\n",
      "Epoch 1/1000\n",
      "10555/10555 [==============================] - 34s 3ms/step - loss: 1.4791 - binary_accuracy: 0.8647 - score_f1: 0.2003 - dice_score: 0.1987 - val_loss: 0.7652 - val_binary_accuracy: 0.8944 - val_score_f1: 0.2074 - val_dice_score: 0.2074\n",
      "Epoch 2/1000\n",
      "10555/10555 [==============================] - 30s 3ms/step - loss: 0.7450 - binary_accuracy: 0.8755 - score_f1: 0.2050 - dice_score: 0.2049 - val_loss: 0.7363 - val_binary_accuracy: 0.8798 - val_score_f1: 0.2078 - val_dice_score: 0.2077\n",
      "Epoch 3/1000\n",
      "10555/10555 [==============================] - 30s 3ms/step - loss: 0.7376 - binary_accuracy: 0.8771 - score_f1: 0.2058 - dice_score: 0.2058 - val_loss: 0.7320 - val_binary_accuracy: 0.8765 - val_score_f1: 0.2046 - val_dice_score: 0.2046\n",
      "Epoch 4/1000\n",
      "10555/10555 [==============================] - 30s 3ms/step - loss: 0.7422 - binary_accuracy: 0.8783 - score_f1: 0.2061 - dice_score: 0.2061 - val_loss: 0.7458 - val_binary_accuracy: 0.8748 - val_score_f1: 0.2046 - val_dice_score: 0.2046\n",
      "Epoch 5/1000\n",
      "10555/10555 [==============================] - 30s 3ms/step - loss: 0.7428 - binary_accuracy: 0.8755 - score_f1: 0.2053 - dice_score: 0.2053 - val_loss: 0.7311 - val_binary_accuracy: 0.8735 - val_score_f1: 0.2045 - val_dice_score: 0.2045\n",
      "Epoch 6/1000\n",
      "10555/10555 [==============================] - 30s 3ms/step - loss: 0.7397 - binary_accuracy: 0.8804 - score_f1: 0.2072 - dice_score: 0.2072 - val_loss: 0.7498 - val_binary_accuracy: 0.8804 - val_score_f1: 0.2067 - val_dice_score: 0.2067\n",
      "Epoch 7/1000\n",
      "10555/10555 [==============================] - 30s 3ms/step - loss: 0.7487 - binary_accuracy: 0.8795 - score_f1: 0.2062 - dice_score: 0.2062 - val_loss: 0.7514 - val_binary_accuracy: 0.8931 - val_score_f1: 0.2070 - val_dice_score: 0.2071\n",
      "Epoch 8/1000\n",
      "10555/10555 [==============================] - 30s 3ms/step - loss: 0.7427 - binary_accuracy: 0.8778 - score_f1: 0.2059 - dice_score: 0.2059 - val_loss: 0.7340 - val_binary_accuracy: 0.8782 - val_score_f1: 0.2064 - val_dice_score: 0.2065\n",
      "Epoch 9/1000\n",
      "10555/10555 [==============================] - 30s 3ms/step - loss: 0.7414 - binary_accuracy: 0.8787 - score_f1: 0.2067 - dice_score: 0.2067 - val_loss: 0.7387 - val_binary_accuracy: 0.8746 - val_score_f1: 0.2047 - val_dice_score: 0.2047\n",
      "Epoch 10/1000\n",
      "10555/10555 [==============================] - 30s 3ms/step - loss: 0.7488 - binary_accuracy: 0.8788 - score_f1: 0.2056 - dice_score: 0.2056 - val_loss: 0.7487 - val_binary_accuracy: 0.8771 - val_score_f1: 0.2050 - val_dice_score: 0.2051\n",
      "Epoch 11/1000\n",
      "10555/10555 [==============================] - 30s 3ms/step - loss: 0.7603 - binary_accuracy: 0.8778 - score_f1: 0.2049 - dice_score: 0.2049 - val_loss: 0.7254 - val_binary_accuracy: 0.8827 - val_score_f1: 0.2070 - val_dice_score: 0.2069\n",
      "Epoch 12/1000\n",
      "10555/10555 [==============================] - 30s 3ms/step - loss: 0.7538 - binary_accuracy: 0.8783 - score_f1: 0.2045 - dice_score: 0.2045 - val_loss: 0.7460 - val_binary_accuracy: 0.8728 - val_score_f1: 0.2037 - val_dice_score: 0.2037\n",
      "Epoch 13/1000\n",
      "10555/10555 [==============================] - 30s 3ms/step - loss: 0.7475 - binary_accuracy: 0.8763 - score_f1: 0.2042 - dice_score: 0.2042 - val_loss: 0.7429 - val_binary_accuracy: 0.8671 - val_score_f1: 0.2000 - val_dice_score: 0.2001\n",
      "Epoch 14/1000\n",
      "10555/10555 [==============================] - 30s 3ms/step - loss: 0.7436 - binary_accuracy: 0.8768 - score_f1: 0.2039 - dice_score: 0.2039 - val_loss: 0.7455 - val_binary_accuracy: 0.8782 - val_score_f1: 0.2037 - val_dice_score: 0.2037\n",
      "Epoch 15/1000\n",
      "10555/10555 [==============================] - 30s 3ms/step - loss: 0.7416 - binary_accuracy: 0.8763 - score_f1: 0.2046 - dice_score: 0.2046 - val_loss: 0.7250 - val_binary_accuracy: 0.8734 - val_score_f1: 0.2028 - val_dice_score: 0.2028\n",
      "Epoch 16/1000\n",
      "10555/10555 [==============================] - 30s 3ms/step - loss: 0.7359 - binary_accuracy: 0.8799 - score_f1: 0.2058 - dice_score: 0.2058 - val_loss: 0.7324 - val_binary_accuracy: 0.8881 - val_score_f1: 0.2054 - val_dice_score: 0.2054\n",
      "Epoch 17/1000\n",
      "10555/10555 [==============================] - 30s 3ms/step - loss: 0.7366 - binary_accuracy: 0.8787 - score_f1: 0.2050 - dice_score: 0.2050 - val_loss: 0.7450 - val_binary_accuracy: 0.8707 - val_score_f1: 0.2020 - val_dice_score: 0.2020\n",
      "Epoch 18/1000\n",
      "10555/10555 [==============================] - 30s 3ms/step - loss: 0.7419 - binary_accuracy: 0.8775 - score_f1: 0.2049 - dice_score: 0.2049 - val_loss: 0.7354 - val_binary_accuracy: 0.8736 - val_score_f1: 0.2028 - val_dice_score: 0.2028\n",
      "Epoch 19/1000\n",
      "10555/10555 [==============================] - 30s 3ms/step - loss: 0.7382 - binary_accuracy: 0.8765 - score_f1: 0.2045 - dice_score: 0.2045 - val_loss: 0.7630 - val_binary_accuracy: 0.8716 - val_score_f1: 0.2024 - val_dice_score: 0.2024\n",
      "Epoch 20/1000\n",
      "10555/10555 [==============================] - 30s 3ms/step - loss: 0.7385 - binary_accuracy: 0.8778 - score_f1: 0.2052 - dice_score: 0.2052 - val_loss: 0.7313 - val_binary_accuracy: 0.8797 - val_score_f1: 0.2061 - val_dice_score: 0.2061\n",
      "Epoch 21/1000\n",
      "10555/10555 [==============================] - 30s 3ms/step - loss: 0.7406 - binary_accuracy: 0.8760 - score_f1: 0.2040 - dice_score: 0.2040 - val_loss: 0.7676 - val_binary_accuracy: 0.8676 - val_score_f1: 0.1998 - val_dice_score: 0.1998\n",
      "Epoch 22/1000\n",
      "10555/10555 [==============================] - 30s 3ms/step - loss: 0.7339 - binary_accuracy: 0.8787 - score_f1: 0.2056 - dice_score: 0.2056 - val_loss: 0.7215 - val_binary_accuracy: 0.8787 - val_score_f1: 0.2053 - val_dice_score: 0.2053\n",
      "Epoch 23/1000\n",
      "10555/10555 [==============================] - 30s 3ms/step - loss: 0.7385 - binary_accuracy: 0.8778 - score_f1: 0.2053 - dice_score: 0.2053 - val_loss: 0.7446 - val_binary_accuracy: 0.8775 - val_score_f1: 0.2044 - val_dice_score: 0.2044\n",
      "Epoch 24/1000\n",
      "10555/10555 [==============================] - 30s 3ms/step - loss: 0.7449 - binary_accuracy: 0.8780 - score_f1: 0.2051 - dice_score: 0.2051 - val_loss: 0.7394 - val_binary_accuracy: 0.8791 - val_score_f1: 0.2054 - val_dice_score: 0.2054\n",
      "Epoch 25/1000\n",
      "10555/10555 [==============================] - 30s 3ms/step - loss: 0.7440 - binary_accuracy: 0.8778 - score_f1: 0.2048 - dice_score: 0.2048 - val_loss: 0.7385 - val_binary_accuracy: 0.8668 - val_score_f1: 0.1996 - val_dice_score: 0.1996\n",
      "Epoch 26/1000\n",
      "10555/10555 [==============================] - 30s 3ms/step - loss: 0.7326 - binary_accuracy: 0.8785 - score_f1: 0.2056 - dice_score: 0.2056 - val_loss: 0.7287 - val_binary_accuracy: 0.8796 - val_score_f1: 0.2059 - val_dice_score: 0.2059\n",
      "Epoch 27/1000\n",
      "10555/10555 [==============================] - 30s 3ms/step - loss: 0.7384 - binary_accuracy: 0.8769 - score_f1: 0.2048 - dice_score: 0.2048 - val_loss: 0.7312 - val_binary_accuracy: 0.8814 - val_score_f1: 0.2056 - val_dice_score: 0.2056\n",
      "Epoch 28/1000\n",
      "10555/10555 [==============================] - 30s 3ms/step - loss: 0.7400 - binary_accuracy: 0.8764 - score_f1: 0.2044 - dice_score: 0.2044 - val_loss: 0.7646 - val_binary_accuracy: 0.8742 - val_score_f1: 0.2005 - val_dice_score: 0.2005\n",
      "Epoch 29/1000\n",
      "10555/10555 [==============================] - 30s 3ms/step - loss: 0.7493 - binary_accuracy: 0.8751 - score_f1: 0.2035 - dice_score: 0.2035 - val_loss: 0.7502 - val_binary_accuracy: 0.8772 - val_score_f1: 0.2047 - val_dice_score: 0.2047\n",
      "Epoch 30/1000\n",
      "10555/10555 [==============================] - 30s 3ms/step - loss: 0.7396 - binary_accuracy: 0.8774 - score_f1: 0.2050 - dice_score: 0.2050 - val_loss: 0.7303 - val_binary_accuracy: 0.8749 - val_score_f1: 0.2037 - val_dice_score: 0.2037\n",
      "Epoch 31/1000\n",
      "10555/10555 [==============================] - 30s 3ms/step - loss: 0.7308 - binary_accuracy: 0.8776 - score_f1: 0.2051 - dice_score: 0.2051 - val_loss: 0.7281 - val_binary_accuracy: 0.8833 - val_score_f1: 0.2063 - val_dice_score: 0.2063\n",
      "Epoch 32/1000\n",
      "10555/10555 [==============================] - 30s 3ms/step - loss: 0.7365 - binary_accuracy: 0.8757 - score_f1: 0.2041 - dice_score: 0.2041 - val_loss: 0.7429 - val_binary_accuracy: 0.8749 - val_score_f1: 0.2039 - val_dice_score: 0.2039\n",
      "Epoch 33/1000\n",
      "10555/10555 [==============================] - 30s 3ms/step - loss: 0.7307 - binary_accuracy: 0.8766 - score_f1: 0.2047 - dice_score: 0.2047 - val_loss: 0.7342 - val_binary_accuracy: 0.8775 - val_score_f1: 0.2050 - val_dice_score: 0.2050\n",
      "Epoch 34/1000\n",
      "10555/10555 [==============================] - 30s 3ms/step - loss: 0.7325 - binary_accuracy: 0.8752 - score_f1: 0.2039 - dice_score: 0.2038 - val_loss: 0.7379 - val_binary_accuracy: 0.8759 - val_score_f1: 0.2044 - val_dice_score: 0.2044\n",
      "Epoch 35/1000\n",
      "10555/10555 [==============================] - 30s 3ms/step - loss: 0.7424 - binary_accuracy: 0.8741 - score_f1: 0.2038 - dice_score: 0.2038 - val_loss: 0.7324 - val_binary_accuracy: 0.8696 - val_score_f1: 0.2010 - val_dice_score: 0.2010\n",
      "Epoch 36/1000\n",
      "10555/10555 [==============================] - 30s 3ms/step - loss: 0.7338 - binary_accuracy: 0.8753 - score_f1: 0.2041 - dice_score: 0.2041 - val_loss: 0.7478 - val_binary_accuracy: 0.8759 - val_score_f1: 0.2044 - val_dice_score: 0.2044\n",
      "Epoch 37/1000\n",
      "10555/10555 [==============================] - 30s 3ms/step - loss: 0.7400 - binary_accuracy: 0.8782 - score_f1: 0.2044 - dice_score: 0.2044 - val_loss: 0.7261 - val_binary_accuracy: 0.8778 - val_score_f1: 0.2053 - val_dice_score: 0.2053\n",
      "Epoch 38/1000\n",
      "10555/10555 [==============================] - 30s 3ms/step - loss: 0.7367 - binary_accuracy: 0.8779 - score_f1: 0.2052 - dice_score: 0.2052 - val_loss: 0.7398 - val_binary_accuracy: 0.8769 - val_score_f1: 0.2045 - val_dice_score: 0.2045\n",
      "Epoch 39/1000\n",
      "10555/10555 [==============================] - 30s 3ms/step - loss: 0.7286 - binary_accuracy: 0.8777 - score_f1: 0.2053 - dice_score: 0.2054 - val_loss: 0.7373 - val_binary_accuracy: 0.8765 - val_score_f1: 0.2045 - val_dice_score: 0.2045\n",
      "Epoch 40/1000\n",
      "10555/10555 [==============================] - 30s 3ms/step - loss: 0.7390 - binary_accuracy: 0.8749 - score_f1: 0.2030 - dice_score: 0.2030 - val_loss: 0.7288 - val_binary_accuracy: 0.8645 - val_score_f1: 0.1982 - val_dice_score: 0.1982\n",
      "Epoch 41/1000\n",
      "10555/10555 [==============================] - 30s 3ms/step - loss: 0.7388 - binary_accuracy: 0.8770 - score_f1: 0.2034 - dice_score: 0.2034 - val_loss: 0.7434 - val_binary_accuracy: 0.8728 - val_score_f1: 0.2030 - val_dice_score: 0.2030\n",
      "Epoch 42/1000\n",
      "10555/10555 [==============================] - 30s 3ms/step - loss: 0.7367 - binary_accuracy: 0.8805 - score_f1: 0.2063 - dice_score: 0.2063 - val_loss: 0.7423 - val_binary_accuracy: 0.8759 - val_score_f1: 0.2042 - val_dice_score: 0.2042\n",
      "Epoch 43/1000\n",
      "10555/10555 [==============================] - 30s 3ms/step - loss: 0.7331 - binary_accuracy: 0.8817 - score_f1: 0.2070 - dice_score: 0.2070 - val_loss: 0.7574 - val_binary_accuracy: 0.8786 - val_score_f1: 0.2056 - val_dice_score: 0.2057\n",
      "Epoch 44/1000\n",
      "10555/10555 [==============================] - 30s 3ms/step - loss: 0.7408 - binary_accuracy: 0.8790 - score_f1: 0.2054 - dice_score: 0.2054 - val_loss: 0.7417 - val_binary_accuracy: 0.8816 - val_score_f1: 0.2068 - val_dice_score: 0.2068\n",
      "Epoch 45/1000\n",
      "10555/10555 [==============================] - 30s 3ms/step - loss: 0.7319 - binary_accuracy: 0.8801 - score_f1: 0.2063 - dice_score: 0.2064 - val_loss: 0.7256 - val_binary_accuracy: 0.8820 - val_score_f1: 0.2061 - val_dice_score: 0.2061\n",
      "Epoch 46/1000\n",
      "10555/10555 [==============================] - 30s 3ms/step - loss: 0.7336 - binary_accuracy: 0.8788 - score_f1: 0.2061 - dice_score: 0.2060 - val_loss: 0.7351 - val_binary_accuracy: 0.8778 - val_score_f1: 0.2056 - val_dice_score: 0.2056\n",
      "Epoch 47/1000\n",
      "10555/10555 [==============================] - 30s 3ms/step - loss: 0.7346 - binary_accuracy: 0.8796 - score_f1: 0.2062 - dice_score: 0.2062 - val_loss: 0.7315 - val_binary_accuracy: 0.8752 - val_score_f1: 0.2042 - val_dice_score: 0.2042\n",
      "Epoch 48/1000\n",
      "10555/10555 [==============================] - 30s 3ms/step - loss: 0.7506 - binary_accuracy: 0.8777 - score_f1: 0.2043 - dice_score: 0.2043 - val_loss: 0.7320 - val_binary_accuracy: 0.8805 - val_score_f1: 0.2059 - val_dice_score: 0.2060\n",
      "Epoch 49/1000\n",
      "10555/10555 [==============================] - 30s 3ms/step - loss: 0.7313 - binary_accuracy: 0.8798 - score_f1: 0.2061 - dice_score: 0.2061 - val_loss: 0.7333 - val_binary_accuracy: 0.8791 - val_score_f1: 0.2063 - val_dice_score: 0.2063\n",
      "Epoch 50/1000\n",
      "10555/10555 [==============================] - 30s 3ms/step - loss: 0.7357 - binary_accuracy: 0.8771 - score_f1: 0.2052 - dice_score: 0.2052 - val_loss: 0.7245 - val_binary_accuracy: 0.8750 - val_score_f1: 0.2042 - val_dice_score: 0.2042\n",
      "Epoch 51/1000\n",
      "10555/10555 [==============================] - 30s 3ms/step - loss: 0.7322 - binary_accuracy: 0.8791 - score_f1: 0.2062 - dice_score: 0.2062 - val_loss: 0.7355 - val_binary_accuracy: 0.8718 - val_score_f1: 0.2023 - val_dice_score: 0.2023\n",
      "Epoch 52/1000\n",
      "10555/10555 [==============================] - 30s 3ms/step - loss: 0.7329 - binary_accuracy: 0.8793 - score_f1: 0.2064 - dice_score: 0.2064 - val_loss: 0.7384 - val_binary_accuracy: 0.8805 - val_score_f1: 0.2060 - val_dice_score: 0.2060\n",
      "Epoch 53/1000\n",
      "10555/10555 [==============================] - 30s 3ms/step - loss: 0.7264 - binary_accuracy: 0.8793 - score_f1: 0.2063 - dice_score: 0.2063 - val_loss: 0.7240 - val_binary_accuracy: 0.8858 - val_score_f1: 0.2079 - val_dice_score: 0.2079\n",
      "Epoch 54/1000\n",
      "10555/10555 [==============================] - 30s 3ms/step - loss: 0.7335 - binary_accuracy: 0.8795 - score_f1: 0.2065 - dice_score: 0.2065 - val_loss: 0.7358 - val_binary_accuracy: 0.8786 - val_score_f1: 0.2057 - val_dice_score: 0.2057\n",
      "Epoch 55/1000\n",
      "10555/10555 [==============================] - 30s 3ms/step - loss: 0.7416 - binary_accuracy: 0.8788 - score_f1: 0.2045 - dice_score: 0.2045 - val_loss: 0.7396 - val_binary_accuracy: 0.8778 - val_score_f1: 0.2052 - val_dice_score: 0.2052\n",
      "Epoch 56/1000\n",
      "10555/10555 [==============================] - 30s 3ms/step - loss: 0.7401 - binary_accuracy: 0.8771 - score_f1: 0.2032 - dice_score: 0.2032 - val_loss: 0.7449 - val_binary_accuracy: 0.8792 - val_score_f1: 0.1995 - val_dice_score: 0.1995\n",
      "Epoch 57/1000\n",
      "10555/10555 [==============================] - 30s 3ms/step - loss: 0.7394 - binary_accuracy: 0.8759 - score_f1: 0.2033 - dice_score: 0.2033 - val_loss: 0.7416 - val_binary_accuracy: 0.8746 - val_score_f1: 0.2031 - val_dice_score: 0.2031\n",
      "Epoch 58/1000\n",
      "10555/10555 [==============================] - 30s 3ms/step - loss: 0.7416 - binary_accuracy: 0.8756 - score_f1: 0.2036 - dice_score: 0.2036 - val_loss: 0.7433 - val_binary_accuracy: 0.8835 - val_score_f1: 0.2068 - val_dice_score: 0.2068\n",
      "Epoch 59/1000\n",
      "10555/10555 [==============================] - 30s 3ms/step - loss: 0.7408 - binary_accuracy: 0.8766 - score_f1: 0.2049 - dice_score: 0.2049 - val_loss: 0.7280 - val_binary_accuracy: 0.8753 - val_score_f1: 0.2037 - val_dice_score: 0.2037\n",
      "Epoch 60/1000\n",
      "10555/10555 [==============================] - 30s 3ms/step - loss: 0.7328 - binary_accuracy: 0.8768 - score_f1: 0.2051 - dice_score: 0.2051 - val_loss: 0.7504 - val_binary_accuracy: 0.8637 - val_score_f1: 0.1980 - val_dice_score: 0.1980\n",
      "Epoch 61/1000\n",
      "10555/10555 [==============================] - 30s 3ms/step - loss: 0.7330 - binary_accuracy: 0.8792 - score_f1: 0.2066 - dice_score: 0.2066 - val_loss: 0.7327 - val_binary_accuracy: 0.8771 - val_score_f1: 0.2054 - val_dice_score: 0.2054\n",
      "Epoch 62/1000\n",
      "10555/10555 [==============================] - 30s 3ms/step - loss: 0.7347 - binary_accuracy: 0.8775 - score_f1: 0.2055 - dice_score: 0.2055 - val_loss: 0.7393 - val_binary_accuracy: 0.8739 - val_score_f1: 0.2039 - val_dice_score: 0.2039\n",
      "Epoch 63/1000\n",
      "10555/10555 [==============================] - 30s 3ms/step - loss: 0.7361 - binary_accuracy: 0.8782 - score_f1: 0.2062 - dice_score: 0.2062 - val_loss: 0.7239 - val_binary_accuracy: 0.8797 - val_score_f1: 0.2065 - val_dice_score: 0.2065\n",
      "Epoch 64/1000\n",
      "10555/10555 [==============================] - 30s 3ms/step - loss: 0.7411 - binary_accuracy: 0.8771 - score_f1: 0.2047 - dice_score: 0.2047 - val_loss: 0.7474 - val_binary_accuracy: 0.8860 - val_score_f1: 0.2085 - val_dice_score: 0.2084\n",
      "Epoch 65/1000\n",
      "10555/10555 [==============================] - 30s 3ms/step - loss: 0.7313 - binary_accuracy: 0.8767 - score_f1: 0.2057 - dice_score: 0.2057 - val_loss: 0.7368 - val_binary_accuracy: 0.8866 - val_score_f1: 0.2069 - val_dice_score: 0.2068\n",
      "Epoch 66/1000\n",
      "10555/10555 [==============================] - 30s 3ms/step - loss: 0.7316 - binary_accuracy: 0.8769 - score_f1: 0.2057 - dice_score: 0.2057 - val_loss: 0.7248 - val_binary_accuracy: 0.8743 - val_score_f1: 0.2045 - val_dice_score: 0.2045\n",
      "Epoch 67/1000\n",
      "10555/10555 [==============================] - 30s 3ms/step - loss: 0.7324 - binary_accuracy: 0.8768 - score_f1: 0.2057 - dice_score: 0.2057 - val_loss: 0.7382 - val_binary_accuracy: 0.8730 - val_score_f1: 0.2036 - val_dice_score: 0.2036\n",
      "Epoch 68/1000\n",
      "10555/10555 [==============================] - 30s 3ms/step - loss: 0.7280 - binary_accuracy: 0.8774 - score_f1: 0.2067 - dice_score: 0.2067 - val_loss: 0.7270 - val_binary_accuracy: 0.8702 - val_score_f1: 0.2020 - val_dice_score: 0.2020\n",
      "Epoch 69/1000\n",
      "10555/10555 [==============================] - 30s 3ms/step - loss: 0.7256 - binary_accuracy: 0.8790 - score_f1: 0.2072 - dice_score: 0.2072 - val_loss: 0.7471 - val_binary_accuracy: 0.8840 - val_score_f1: 0.2077 - val_dice_score: 0.2077\n",
      "Epoch 70/1000\n",
      "10555/10555 [==============================] - 30s 3ms/step - loss: 0.7287 - binary_accuracy: 0.8783 - score_f1: 0.2071 - dice_score: 0.2071 - val_loss: 0.7365 - val_binary_accuracy: 0.8737 - val_score_f1: 0.2046 - val_dice_score: 0.2046\n",
      "Epoch 71/1000\n",
      "10555/10555 [==============================] - 30s 3ms/step - loss: 0.7336 - binary_accuracy: 0.8779 - score_f1: 0.2061 - dice_score: 0.2061 - val_loss: 0.7349 - val_binary_accuracy: 0.8705 - val_score_f1: 0.2024 - val_dice_score: 0.2024\n",
      "Epoch 72/1000\n",
      "10555/10555 [==============================] - 30s 3ms/step - loss: 0.7277 - binary_accuracy: 0.8777 - score_f1: 0.2067 - dice_score: 0.2067 - val_loss: 0.7240 - val_binary_accuracy: 0.8768 - val_score_f1: 0.2065 - val_dice_score: 0.2065\n",
      "Epoch 00072: early stopping\n"
     ]
    }
   ],
   "source": [
    "hist = model.fit([cmp_train,prt_train],label_train, epochs =1000, batch_size =32, validation_data=([cmp_valid,prt_valid],label_valid) , callbacks=[es,mc])\n"
   ]
  },
  {
   "cell_type": "code",
   "execution_count": 49,
   "metadata": {},
   "outputs": [
    {
     "name": "stdout",
     "output_type": "stream",
     "text": [
      "Train on 10555 samples, validate on 3518 samples\n",
      "Epoch 1/1000\n",
      "10555/10555 [==============================] - 34s 3ms/step - loss: 1.5719 - binary_accuracy: 0.9463 - score_f1: 0.2470 - dice_score: 0.2396 - val_loss: 0.9929 - val_binary_accuracy: 0.9770 - val_score_f1: 0.0761 - val_dice_score: 0.0834\n",
      "Epoch 2/1000\n",
      "10555/10555 [==============================] - 31s 3ms/step - loss: 0.7900 - binary_accuracy: 0.9565 - score_f1: 0.2752 - dice_score: 0.2692 - val_loss: 0.8917 - val_binary_accuracy: 0.9673 - val_score_f1: 0.1548 - val_dice_score: 0.1552\n",
      "Epoch 3/1000\n",
      "10555/10555 [==============================] - 31s 3ms/step - loss: 0.7598 - binary_accuracy: 0.9614 - score_f1: 0.2958 - dice_score: 0.2890 - val_loss: 0.8884 - val_binary_accuracy: 0.9655 - val_score_f1: 0.1728 - val_dice_score: 0.1730\n",
      "Epoch 4/1000\n",
      "10555/10555 [==============================] - 31s 3ms/step - loss: 0.7350 - binary_accuracy: 0.9659 - score_f1: 0.3192 - dice_score: 0.3120 - val_loss: 0.8332 - val_binary_accuracy: 0.9573 - val_score_f1: 0.2196 - val_dice_score: 0.2182\n",
      "Epoch 5/1000\n",
      "10555/10555 [==============================] - 31s 3ms/step - loss: 0.7143 - binary_accuracy: 0.9685 - score_f1: 0.3393 - dice_score: 0.3314 - val_loss: 0.7931 - val_binary_accuracy: 0.9648 - val_score_f1: 0.2514 - val_dice_score: 0.2477\n",
      "Epoch 6/1000\n",
      " 3776/10555 [=========>....................] - ETA: 17s - loss: 0.7033 - binary_accuracy: 0.9707 - score_f1: 0.3522 - dice_score: 0.3438"
     ]
    },
    {
     "ename": "KeyboardInterrupt",
     "evalue": "",
     "output_type": "error",
     "traceback": [
      "\u001b[0;31m---------------------------------------------------------------------------\u001b[0m",
      "\u001b[0;31mKeyboardInterrupt\u001b[0m                         Traceback (most recent call last)",
      "\u001b[0;32m<ipython-input-49-c40a0a446a7d>\u001b[0m in \u001b[0;36m<module>\u001b[0;34m\u001b[0m\n\u001b[0;32m----> 1\u001b[0;31m \u001b[0mhist\u001b[0m \u001b[0;34m=\u001b[0m \u001b[0mmodel\u001b[0m\u001b[0;34m.\u001b[0m\u001b[0mfit\u001b[0m\u001b[0;34m(\u001b[0m\u001b[0;34m[\u001b[0m\u001b[0mcmp_train\u001b[0m\u001b[0;34m,\u001b[0m\u001b[0mprt_train\u001b[0m\u001b[0;34m]\u001b[0m\u001b[0;34m,\u001b[0m\u001b[0mlabel_train\u001b[0m\u001b[0;34m,\u001b[0m \u001b[0mepochs\u001b[0m \u001b[0;34m=\u001b[0m\u001b[0;36m1000\u001b[0m\u001b[0;34m,\u001b[0m \u001b[0mbatch_size\u001b[0m \u001b[0;34m=\u001b[0m\u001b[0;36m32\u001b[0m\u001b[0;34m,\u001b[0m \u001b[0mvalidation_data\u001b[0m\u001b[0;34m=\u001b[0m\u001b[0;34m(\u001b[0m\u001b[0;34m[\u001b[0m\u001b[0mcmp_valid\u001b[0m\u001b[0;34m,\u001b[0m\u001b[0mprt_valid\u001b[0m\u001b[0;34m]\u001b[0m\u001b[0;34m,\u001b[0m\u001b[0mlabel_valid\u001b[0m\u001b[0;34m)\u001b[0m \u001b[0;34m,\u001b[0m \u001b[0mcallbacks\u001b[0m\u001b[0;34m=\u001b[0m\u001b[0;34m[\u001b[0m\u001b[0mes\u001b[0m\u001b[0;34m,\u001b[0m\u001b[0mmc\u001b[0m\u001b[0;34m]\u001b[0m\u001b[0;34m)\u001b[0m\u001b[0;34m\u001b[0m\u001b[0;34m\u001b[0m\u001b[0m\n\u001b[0m",
      "\u001b[0;32m/usr/local/lib/python3.6/dist-packages/keras/engine/training.py\u001b[0m in \u001b[0;36mfit\u001b[0;34m(self, x, y, batch_size, epochs, verbose, callbacks, validation_split, validation_data, shuffle, class_weight, sample_weight, initial_epoch, steps_per_epoch, validation_steps, **kwargs)\u001b[0m\n\u001b[1;32m   1037\u001b[0m                                         \u001b[0minitial_epoch\u001b[0m\u001b[0;34m=\u001b[0m\u001b[0minitial_epoch\u001b[0m\u001b[0;34m,\u001b[0m\u001b[0;34m\u001b[0m\u001b[0;34m\u001b[0m\u001b[0m\n\u001b[1;32m   1038\u001b[0m                                         \u001b[0msteps_per_epoch\u001b[0m\u001b[0;34m=\u001b[0m\u001b[0msteps_per_epoch\u001b[0m\u001b[0;34m,\u001b[0m\u001b[0;34m\u001b[0m\u001b[0;34m\u001b[0m\u001b[0m\n\u001b[0;32m-> 1039\u001b[0;31m                                         validation_steps=validation_steps)\n\u001b[0m\u001b[1;32m   1040\u001b[0m \u001b[0;34m\u001b[0m\u001b[0m\n\u001b[1;32m   1041\u001b[0m     def evaluate(self, x=None, y=None,\n",
      "\u001b[0;32m/usr/local/lib/python3.6/dist-packages/keras/engine/training_arrays.py\u001b[0m in \u001b[0;36mfit_loop\u001b[0;34m(model, f, ins, out_labels, batch_size, epochs, verbose, callbacks, val_f, val_ins, shuffle, callback_metrics, initial_epoch, steps_per_epoch, validation_steps)\u001b[0m\n\u001b[1;32m    197\u001b[0m                     \u001b[0mins_batch\u001b[0m\u001b[0;34m[\u001b[0m\u001b[0mi\u001b[0m\u001b[0;34m]\u001b[0m \u001b[0;34m=\u001b[0m \u001b[0mins_batch\u001b[0m\u001b[0;34m[\u001b[0m\u001b[0mi\u001b[0m\u001b[0;34m]\u001b[0m\u001b[0;34m.\u001b[0m\u001b[0mtoarray\u001b[0m\u001b[0;34m(\u001b[0m\u001b[0;34m)\u001b[0m\u001b[0;34m\u001b[0m\u001b[0;34m\u001b[0m\u001b[0m\n\u001b[1;32m    198\u001b[0m \u001b[0;34m\u001b[0m\u001b[0m\n\u001b[0;32m--> 199\u001b[0;31m                 \u001b[0mouts\u001b[0m \u001b[0;34m=\u001b[0m \u001b[0mf\u001b[0m\u001b[0;34m(\u001b[0m\u001b[0mins_batch\u001b[0m\u001b[0;34m)\u001b[0m\u001b[0;34m\u001b[0m\u001b[0;34m\u001b[0m\u001b[0m\n\u001b[0m\u001b[1;32m    200\u001b[0m                 \u001b[0mouts\u001b[0m \u001b[0;34m=\u001b[0m \u001b[0mto_list\u001b[0m\u001b[0;34m(\u001b[0m\u001b[0mouts\u001b[0m\u001b[0;34m)\u001b[0m\u001b[0;34m\u001b[0m\u001b[0;34m\u001b[0m\u001b[0m\n\u001b[1;32m    201\u001b[0m                 \u001b[0;32mfor\u001b[0m \u001b[0ml\u001b[0m\u001b[0;34m,\u001b[0m \u001b[0mo\u001b[0m \u001b[0;32min\u001b[0m \u001b[0mzip\u001b[0m\u001b[0;34m(\u001b[0m\u001b[0mout_labels\u001b[0m\u001b[0;34m,\u001b[0m \u001b[0mouts\u001b[0m\u001b[0;34m)\u001b[0m\u001b[0;34m:\u001b[0m\u001b[0;34m\u001b[0m\u001b[0;34m\u001b[0m\u001b[0m\n",
      "\u001b[0;32m/usr/local/lib/python3.6/dist-packages/keras/backend/tensorflow_backend.py\u001b[0m in \u001b[0;36m__call__\u001b[0;34m(self, inputs)\u001b[0m\n\u001b[1;32m   2713\u001b[0m                 \u001b[0;32mreturn\u001b[0m \u001b[0mself\u001b[0m\u001b[0;34m.\u001b[0m\u001b[0m_legacy_call\u001b[0m\u001b[0;34m(\u001b[0m\u001b[0minputs\u001b[0m\u001b[0;34m)\u001b[0m\u001b[0;34m\u001b[0m\u001b[0;34m\u001b[0m\u001b[0m\n\u001b[1;32m   2714\u001b[0m \u001b[0;34m\u001b[0m\u001b[0m\n\u001b[0;32m-> 2715\u001b[0;31m             \u001b[0;32mreturn\u001b[0m \u001b[0mself\u001b[0m\u001b[0;34m.\u001b[0m\u001b[0m_call\u001b[0m\u001b[0;34m(\u001b[0m\u001b[0minputs\u001b[0m\u001b[0;34m)\u001b[0m\u001b[0;34m\u001b[0m\u001b[0;34m\u001b[0m\u001b[0m\n\u001b[0m\u001b[1;32m   2716\u001b[0m         \u001b[0;32melse\u001b[0m\u001b[0;34m:\u001b[0m\u001b[0;34m\u001b[0m\u001b[0;34m\u001b[0m\u001b[0m\n\u001b[1;32m   2717\u001b[0m             \u001b[0;32mif\u001b[0m \u001b[0mpy_any\u001b[0m\u001b[0;34m(\u001b[0m\u001b[0mis_tensor\u001b[0m\u001b[0;34m(\u001b[0m\u001b[0mx\u001b[0m\u001b[0;34m)\u001b[0m \u001b[0;32mfor\u001b[0m \u001b[0mx\u001b[0m \u001b[0;32min\u001b[0m \u001b[0minputs\u001b[0m\u001b[0;34m)\u001b[0m\u001b[0;34m:\u001b[0m\u001b[0;34m\u001b[0m\u001b[0;34m\u001b[0m\u001b[0m\n",
      "\u001b[0;32m/usr/local/lib/python3.6/dist-packages/keras/backend/tensorflow_backend.py\u001b[0m in \u001b[0;36m_call\u001b[0;34m(self, inputs)\u001b[0m\n\u001b[1;32m   2673\u001b[0m             \u001b[0mfetched\u001b[0m \u001b[0;34m=\u001b[0m \u001b[0mself\u001b[0m\u001b[0;34m.\u001b[0m\u001b[0m_callable_fn\u001b[0m\u001b[0;34m(\u001b[0m\u001b[0;34m*\u001b[0m\u001b[0marray_vals\u001b[0m\u001b[0;34m,\u001b[0m \u001b[0mrun_metadata\u001b[0m\u001b[0;34m=\u001b[0m\u001b[0mself\u001b[0m\u001b[0;34m.\u001b[0m\u001b[0mrun_metadata\u001b[0m\u001b[0;34m)\u001b[0m\u001b[0;34m\u001b[0m\u001b[0;34m\u001b[0m\u001b[0m\n\u001b[1;32m   2674\u001b[0m         \u001b[0;32melse\u001b[0m\u001b[0;34m:\u001b[0m\u001b[0;34m\u001b[0m\u001b[0;34m\u001b[0m\u001b[0m\n\u001b[0;32m-> 2675\u001b[0;31m             \u001b[0mfetched\u001b[0m \u001b[0;34m=\u001b[0m \u001b[0mself\u001b[0m\u001b[0;34m.\u001b[0m\u001b[0m_callable_fn\u001b[0m\u001b[0;34m(\u001b[0m\u001b[0;34m*\u001b[0m\u001b[0marray_vals\u001b[0m\u001b[0;34m)\u001b[0m\u001b[0;34m\u001b[0m\u001b[0;34m\u001b[0m\u001b[0m\n\u001b[0m\u001b[1;32m   2676\u001b[0m         \u001b[0;32mreturn\u001b[0m \u001b[0mfetched\u001b[0m\u001b[0;34m[\u001b[0m\u001b[0;34m:\u001b[0m\u001b[0mlen\u001b[0m\u001b[0;34m(\u001b[0m\u001b[0mself\u001b[0m\u001b[0;34m.\u001b[0m\u001b[0moutputs\u001b[0m\u001b[0;34m)\u001b[0m\u001b[0;34m]\u001b[0m\u001b[0;34m\u001b[0m\u001b[0;34m\u001b[0m\u001b[0m\n\u001b[1;32m   2677\u001b[0m \u001b[0;34m\u001b[0m\u001b[0m\n",
      "\u001b[0;32m/usr/local/lib/python3.6/dist-packages/tensorflow/python/client/session.py\u001b[0m in \u001b[0;36m__call__\u001b[0;34m(self, *args, **kwargs)\u001b[0m\n\u001b[1;32m   1456\u001b[0m         ret = tf_session.TF_SessionRunCallable(self._session._session,\n\u001b[1;32m   1457\u001b[0m                                                \u001b[0mself\u001b[0m\u001b[0;34m.\u001b[0m\u001b[0m_handle\u001b[0m\u001b[0;34m,\u001b[0m \u001b[0margs\u001b[0m\u001b[0;34m,\u001b[0m\u001b[0;34m\u001b[0m\u001b[0;34m\u001b[0m\u001b[0m\n\u001b[0;32m-> 1458\u001b[0;31m                                                run_metadata_ptr)\n\u001b[0m\u001b[1;32m   1459\u001b[0m         \u001b[0;32mif\u001b[0m \u001b[0mrun_metadata\u001b[0m\u001b[0;34m:\u001b[0m\u001b[0;34m\u001b[0m\u001b[0;34m\u001b[0m\u001b[0m\n\u001b[1;32m   1460\u001b[0m           \u001b[0mproto_data\u001b[0m \u001b[0;34m=\u001b[0m \u001b[0mtf_session\u001b[0m\u001b[0;34m.\u001b[0m\u001b[0mTF_GetBuffer\u001b[0m\u001b[0;34m(\u001b[0m\u001b[0mrun_metadata_ptr\u001b[0m\u001b[0;34m)\u001b[0m\u001b[0;34m\u001b[0m\u001b[0;34m\u001b[0m\u001b[0m\n",
      "\u001b[0;31mKeyboardInterrupt\u001b[0m: "
     ]
    }
   ],
   "source": [
    "hist = model.fit([cmp_train,prt_train],label_train, epochs =1000, batch_size =32, validation_data=([cmp_valid,prt_valid],label_valid) , callbacks=[es,mc])"
   ]
  },
  {
   "cell_type": "code",
   "execution_count": 44,
   "metadata": {},
   "outputs": [],
   "source": [
    "model.load_weights('best_model.h5')"
   ]
  },
  {
   "cell_type": "code",
   "execution_count": null,
   "metadata": {},
   "outputs": [],
   "source": []
  },
  {
   "cell_type": "code",
   "execution_count": 52,
   "metadata": {},
   "outputs": [],
   "source": [
    "#from keras.utils.np_utils import to_categorical\n",
    "from AudioDataGenerator import AudioDataGenerator\n",
    "\n",
    "def data_generator(cmp, prt, label,batch_size):\n",
    "    seed = 2\n",
    "        \n",
    "    datagen = AudioDataGenerator(\n",
    "                        shift=0.1,\n",
    "                        fill_mode='constant',\n",
    "                        cval=0.)\n",
    "                        \n",
    "    \n",
    "    l_ = len(cmp)\n",
    "    cmp = cmp.reshape(l_, drug_len,1)\n",
    "    prt = prt.reshape(l_,AA_len,1)\n",
    "    label = label.reshape(l_, AA_len,1)\n",
    "\n",
    "    \n",
    "    x_gen = datagen.flow(prt, cmp, batch_size=batch_size, shuffle = True, seed = seed )\n",
    "    y_gen = datagen.flow(label, batch_size=batch_size, shuffle = True, seed = seed )\n",
    "   \n",
    "    \n",
    "    \n",
    "    data_gen = zip(x_gen, y_gen)                \n",
    "    for (X_ , label) in data_gen:\n",
    "        cmp = X_[1]\n",
    "        prt = X_[0]\n",
    "        L_ = len(cmp)\n",
    "        cmp = cmp.reshape(L_,drug_len)\n",
    "        prt = prt.reshape(L_,AA_len)\n",
    "        label = label.reshape(L_,AA_len)\n",
    "        yield [cmp,prt], label\n",
    "\n",
    "\n"
   ]
  },
  {
   "cell_type": "code",
   "execution_count": 53,
   "metadata": {},
   "outputs": [
    {
     "name": "stdout",
     "output_type": "stream",
     "text": [
      "Epoch 1/1000\n",
      "660/660 [==============================] - 62s 94ms/step - loss: 1.2520 - binary_accuracy: 0.9200 - score_f1: 0.1752 - dice_score: 0.1695 - val_loss: 0.8659 - val_binary_accuracy: 0.9213 - val_score_f1: 0.1749 - val_dice_score: 0.1595\n",
      "Epoch 2/1000\n",
      "660/660 [==============================] - 60s 90ms/step - loss: 0.8684 - binary_accuracy: 0.9203 - score_f1: 0.1792 - dice_score: 0.1733 - val_loss: 0.8859 - val_binary_accuracy: 0.9157 - val_score_f1: 0.1810 - val_dice_score: 0.1732\n",
      "Epoch 3/1000\n",
      "660/660 [==============================] - 59s 90ms/step - loss: 0.8834 - binary_accuracy: 0.9231 - score_f1: 0.1822 - dice_score: 0.1764 - val_loss: 0.8778 - val_binary_accuracy: 0.9271 - val_score_f1: 0.1805 - val_dice_score: 0.1752\n",
      "Epoch 4/1000\n",
      "660/660 [==============================] - 60s 90ms/step - loss: 0.8768 - binary_accuracy: 0.9224 - score_f1: 0.1839 - dice_score: 0.1779 - val_loss: 0.8794 - val_binary_accuracy: 0.9086 - val_score_f1: 0.1849 - val_dice_score: 0.1800\n",
      "Epoch 5/1000\n",
      "660/660 [==============================] - 60s 90ms/step - loss: 0.8808 - binary_accuracy: 0.9231 - score_f1: 0.1848 - dice_score: 0.1786 - val_loss: 0.8692 - val_binary_accuracy: 0.9132 - val_score_f1: 0.1867 - val_dice_score: 0.1807\n",
      "Epoch 6/1000\n",
      "660/660 [==============================] - 60s 90ms/step - loss: 0.8666 - binary_accuracy: 0.9235 - score_f1: 0.1871 - dice_score: 0.1808 - val_loss: 0.8624 - val_binary_accuracy: 0.9228 - val_score_f1: 0.1823 - val_dice_score: 0.1758\n",
      "Epoch 7/1000\n",
      "331/660 [==============>...............] - ETA: 26s - loss: 0.8718 - binary_accuracy: 0.9246 - score_f1: 0.1871 - dice_score: 0.1813"
     ]
    },
    {
     "ename": "KeyboardInterrupt",
     "evalue": "",
     "output_type": "error",
     "traceback": [
      "\u001b[0;31m---------------------------------------------------------------------------\u001b[0m",
      "\u001b[0;31mKeyboardInterrupt\u001b[0m                         Traceback (most recent call last)",
      "\u001b[0;32m<ipython-input-53-aceeb7d11804>\u001b[0m in \u001b[0;36m<module>\u001b[0;34m\u001b[0m\n\u001b[1;32m      5\u001b[0m         \u001b[0mvalidation_data\u001b[0m\u001b[0;34m=\u001b[0m\u001b[0mdata_generator\u001b[0m\u001b[0;34m(\u001b[0m\u001b[0mcmp_valid\u001b[0m\u001b[0;34m,\u001b[0m \u001b[0mprt_valid\u001b[0m\u001b[0;34m,\u001b[0m \u001b[0mlabel_valid\u001b[0m\u001b[0;34m,\u001b[0m\u001b[0mbatch_size\u001b[0m\u001b[0;34m=\u001b[0m\u001b[0;36m16\u001b[0m\u001b[0;34m)\u001b[0m\u001b[0;34m,\u001b[0m\u001b[0;34m\u001b[0m\u001b[0;34m\u001b[0m\u001b[0m\n\u001b[1;32m      6\u001b[0m         \u001b[0mvalidation_steps\u001b[0m\u001b[0;34m=\u001b[0m\u001b[0;36m220\u001b[0m\u001b[0;34m,\u001b[0m\u001b[0;34m\u001b[0m\u001b[0;34m\u001b[0m\u001b[0m\n\u001b[0;32m----> 7\u001b[0;31m         callbacks=[es,mc])\n\u001b[0m",
      "\u001b[0;32m/usr/local/lib/python3.6/dist-packages/keras/legacy/interfaces.py\u001b[0m in \u001b[0;36mwrapper\u001b[0;34m(*args, **kwargs)\u001b[0m\n\u001b[1;32m     89\u001b[0m                 warnings.warn('Update your `' + object_name + '` call to the ' +\n\u001b[1;32m     90\u001b[0m                               'Keras 2 API: ' + signature, stacklevel=2)\n\u001b[0;32m---> 91\u001b[0;31m             \u001b[0;32mreturn\u001b[0m \u001b[0mfunc\u001b[0m\u001b[0;34m(\u001b[0m\u001b[0;34m*\u001b[0m\u001b[0margs\u001b[0m\u001b[0;34m,\u001b[0m \u001b[0;34m**\u001b[0m\u001b[0mkwargs\u001b[0m\u001b[0;34m)\u001b[0m\u001b[0;34m\u001b[0m\u001b[0;34m\u001b[0m\u001b[0m\n\u001b[0m\u001b[1;32m     92\u001b[0m         \u001b[0mwrapper\u001b[0m\u001b[0;34m.\u001b[0m\u001b[0m_original_function\u001b[0m \u001b[0;34m=\u001b[0m \u001b[0mfunc\u001b[0m\u001b[0;34m\u001b[0m\u001b[0;34m\u001b[0m\u001b[0m\n\u001b[1;32m     93\u001b[0m         \u001b[0;32mreturn\u001b[0m \u001b[0mwrapper\u001b[0m\u001b[0;34m\u001b[0m\u001b[0;34m\u001b[0m\u001b[0m\n",
      "\u001b[0;32m/usr/local/lib/python3.6/dist-packages/keras/engine/training.py\u001b[0m in \u001b[0;36mfit_generator\u001b[0;34m(self, generator, steps_per_epoch, epochs, verbose, callbacks, validation_data, validation_steps, class_weight, max_queue_size, workers, use_multiprocessing, shuffle, initial_epoch)\u001b[0m\n\u001b[1;32m   1416\u001b[0m             \u001b[0muse_multiprocessing\u001b[0m\u001b[0;34m=\u001b[0m\u001b[0muse_multiprocessing\u001b[0m\u001b[0;34m,\u001b[0m\u001b[0;34m\u001b[0m\u001b[0;34m\u001b[0m\u001b[0m\n\u001b[1;32m   1417\u001b[0m             \u001b[0mshuffle\u001b[0m\u001b[0;34m=\u001b[0m\u001b[0mshuffle\u001b[0m\u001b[0;34m,\u001b[0m\u001b[0;34m\u001b[0m\u001b[0;34m\u001b[0m\u001b[0m\n\u001b[0;32m-> 1418\u001b[0;31m             initial_epoch=initial_epoch)\n\u001b[0m\u001b[1;32m   1419\u001b[0m \u001b[0;34m\u001b[0m\u001b[0m\n\u001b[1;32m   1420\u001b[0m     \u001b[0;34m@\u001b[0m\u001b[0minterfaces\u001b[0m\u001b[0;34m.\u001b[0m\u001b[0mlegacy_generator_methods_support\u001b[0m\u001b[0;34m\u001b[0m\u001b[0;34m\u001b[0m\u001b[0m\n",
      "\u001b[0;32m/usr/local/lib/python3.6/dist-packages/keras/engine/training_generator.py\u001b[0m in \u001b[0;36mfit_generator\u001b[0;34m(model, generator, steps_per_epoch, epochs, verbose, callbacks, validation_data, validation_steps, class_weight, max_queue_size, workers, use_multiprocessing, shuffle, initial_epoch)\u001b[0m\n\u001b[1;32m    215\u001b[0m                 outs = model.train_on_batch(x, y,\n\u001b[1;32m    216\u001b[0m                                             \u001b[0msample_weight\u001b[0m\u001b[0;34m=\u001b[0m\u001b[0msample_weight\u001b[0m\u001b[0;34m,\u001b[0m\u001b[0;34m\u001b[0m\u001b[0;34m\u001b[0m\u001b[0m\n\u001b[0;32m--> 217\u001b[0;31m                                             class_weight=class_weight)\n\u001b[0m\u001b[1;32m    218\u001b[0m \u001b[0;34m\u001b[0m\u001b[0m\n\u001b[1;32m    219\u001b[0m                 \u001b[0mouts\u001b[0m \u001b[0;34m=\u001b[0m \u001b[0mto_list\u001b[0m\u001b[0;34m(\u001b[0m\u001b[0mouts\u001b[0m\u001b[0;34m)\u001b[0m\u001b[0;34m\u001b[0m\u001b[0;34m\u001b[0m\u001b[0m\n",
      "\u001b[0;32m/usr/local/lib/python3.6/dist-packages/keras/engine/training.py\u001b[0m in \u001b[0;36mtrain_on_batch\u001b[0;34m(self, x, y, sample_weight, class_weight)\u001b[0m\n\u001b[1;32m   1215\u001b[0m             \u001b[0mins\u001b[0m \u001b[0;34m=\u001b[0m \u001b[0mx\u001b[0m \u001b[0;34m+\u001b[0m \u001b[0my\u001b[0m \u001b[0;34m+\u001b[0m \u001b[0msample_weights\u001b[0m\u001b[0;34m\u001b[0m\u001b[0;34m\u001b[0m\u001b[0m\n\u001b[1;32m   1216\u001b[0m         \u001b[0mself\u001b[0m\u001b[0;34m.\u001b[0m\u001b[0m_make_train_function\u001b[0m\u001b[0;34m(\u001b[0m\u001b[0;34m)\u001b[0m\u001b[0;34m\u001b[0m\u001b[0;34m\u001b[0m\u001b[0m\n\u001b[0;32m-> 1217\u001b[0;31m         \u001b[0moutputs\u001b[0m \u001b[0;34m=\u001b[0m \u001b[0mself\u001b[0m\u001b[0;34m.\u001b[0m\u001b[0mtrain_function\u001b[0m\u001b[0;34m(\u001b[0m\u001b[0mins\u001b[0m\u001b[0;34m)\u001b[0m\u001b[0;34m\u001b[0m\u001b[0;34m\u001b[0m\u001b[0m\n\u001b[0m\u001b[1;32m   1218\u001b[0m         \u001b[0;32mreturn\u001b[0m \u001b[0munpack_singleton\u001b[0m\u001b[0;34m(\u001b[0m\u001b[0moutputs\u001b[0m\u001b[0;34m)\u001b[0m\u001b[0;34m\u001b[0m\u001b[0;34m\u001b[0m\u001b[0m\n\u001b[1;32m   1219\u001b[0m \u001b[0;34m\u001b[0m\u001b[0m\n",
      "\u001b[0;32m/usr/local/lib/python3.6/dist-packages/keras/backend/tensorflow_backend.py\u001b[0m in \u001b[0;36m__call__\u001b[0;34m(self, inputs)\u001b[0m\n\u001b[1;32m   2713\u001b[0m                 \u001b[0;32mreturn\u001b[0m \u001b[0mself\u001b[0m\u001b[0;34m.\u001b[0m\u001b[0m_legacy_call\u001b[0m\u001b[0;34m(\u001b[0m\u001b[0minputs\u001b[0m\u001b[0;34m)\u001b[0m\u001b[0;34m\u001b[0m\u001b[0;34m\u001b[0m\u001b[0m\n\u001b[1;32m   2714\u001b[0m \u001b[0;34m\u001b[0m\u001b[0m\n\u001b[0;32m-> 2715\u001b[0;31m             \u001b[0;32mreturn\u001b[0m \u001b[0mself\u001b[0m\u001b[0;34m.\u001b[0m\u001b[0m_call\u001b[0m\u001b[0;34m(\u001b[0m\u001b[0minputs\u001b[0m\u001b[0;34m)\u001b[0m\u001b[0;34m\u001b[0m\u001b[0;34m\u001b[0m\u001b[0m\n\u001b[0m\u001b[1;32m   2716\u001b[0m         \u001b[0;32melse\u001b[0m\u001b[0;34m:\u001b[0m\u001b[0;34m\u001b[0m\u001b[0;34m\u001b[0m\u001b[0m\n\u001b[1;32m   2717\u001b[0m             \u001b[0;32mif\u001b[0m \u001b[0mpy_any\u001b[0m\u001b[0;34m(\u001b[0m\u001b[0mis_tensor\u001b[0m\u001b[0;34m(\u001b[0m\u001b[0mx\u001b[0m\u001b[0;34m)\u001b[0m \u001b[0;32mfor\u001b[0m \u001b[0mx\u001b[0m \u001b[0;32min\u001b[0m \u001b[0minputs\u001b[0m\u001b[0;34m)\u001b[0m\u001b[0;34m:\u001b[0m\u001b[0;34m\u001b[0m\u001b[0;34m\u001b[0m\u001b[0m\n",
      "\u001b[0;32m/usr/local/lib/python3.6/dist-packages/keras/backend/tensorflow_backend.py\u001b[0m in \u001b[0;36m_call\u001b[0;34m(self, inputs)\u001b[0m\n\u001b[1;32m   2673\u001b[0m             \u001b[0mfetched\u001b[0m \u001b[0;34m=\u001b[0m \u001b[0mself\u001b[0m\u001b[0;34m.\u001b[0m\u001b[0m_callable_fn\u001b[0m\u001b[0;34m(\u001b[0m\u001b[0;34m*\u001b[0m\u001b[0marray_vals\u001b[0m\u001b[0;34m,\u001b[0m \u001b[0mrun_metadata\u001b[0m\u001b[0;34m=\u001b[0m\u001b[0mself\u001b[0m\u001b[0;34m.\u001b[0m\u001b[0mrun_metadata\u001b[0m\u001b[0;34m)\u001b[0m\u001b[0;34m\u001b[0m\u001b[0;34m\u001b[0m\u001b[0m\n\u001b[1;32m   2674\u001b[0m         \u001b[0;32melse\u001b[0m\u001b[0;34m:\u001b[0m\u001b[0;34m\u001b[0m\u001b[0;34m\u001b[0m\u001b[0m\n\u001b[0;32m-> 2675\u001b[0;31m             \u001b[0mfetched\u001b[0m \u001b[0;34m=\u001b[0m \u001b[0mself\u001b[0m\u001b[0;34m.\u001b[0m\u001b[0m_callable_fn\u001b[0m\u001b[0;34m(\u001b[0m\u001b[0;34m*\u001b[0m\u001b[0marray_vals\u001b[0m\u001b[0;34m)\u001b[0m\u001b[0;34m\u001b[0m\u001b[0;34m\u001b[0m\u001b[0m\n\u001b[0m\u001b[1;32m   2676\u001b[0m         \u001b[0;32mreturn\u001b[0m \u001b[0mfetched\u001b[0m\u001b[0;34m[\u001b[0m\u001b[0;34m:\u001b[0m\u001b[0mlen\u001b[0m\u001b[0;34m(\u001b[0m\u001b[0mself\u001b[0m\u001b[0;34m.\u001b[0m\u001b[0moutputs\u001b[0m\u001b[0;34m)\u001b[0m\u001b[0;34m]\u001b[0m\u001b[0;34m\u001b[0m\u001b[0;34m\u001b[0m\u001b[0m\n\u001b[1;32m   2677\u001b[0m \u001b[0;34m\u001b[0m\u001b[0m\n",
      "\u001b[0;32m/usr/local/lib/python3.6/dist-packages/tensorflow/python/client/session.py\u001b[0m in \u001b[0;36m__call__\u001b[0;34m(self, *args, **kwargs)\u001b[0m\n\u001b[1;32m   1456\u001b[0m         ret = tf_session.TF_SessionRunCallable(self._session._session,\n\u001b[1;32m   1457\u001b[0m                                                \u001b[0mself\u001b[0m\u001b[0;34m.\u001b[0m\u001b[0m_handle\u001b[0m\u001b[0;34m,\u001b[0m \u001b[0margs\u001b[0m\u001b[0;34m,\u001b[0m\u001b[0;34m\u001b[0m\u001b[0;34m\u001b[0m\u001b[0m\n\u001b[0;32m-> 1458\u001b[0;31m                                                run_metadata_ptr)\n\u001b[0m\u001b[1;32m   1459\u001b[0m         \u001b[0;32mif\u001b[0m \u001b[0mrun_metadata\u001b[0m\u001b[0;34m:\u001b[0m\u001b[0;34m\u001b[0m\u001b[0;34m\u001b[0m\u001b[0m\n\u001b[1;32m   1460\u001b[0m           \u001b[0mproto_data\u001b[0m \u001b[0;34m=\u001b[0m \u001b[0mtf_session\u001b[0m\u001b[0;34m.\u001b[0m\u001b[0mTF_GetBuffer\u001b[0m\u001b[0;34m(\u001b[0m\u001b[0mrun_metadata_ptr\u001b[0m\u001b[0;34m)\u001b[0m\u001b[0;34m\u001b[0m\u001b[0;34m\u001b[0m\u001b[0m\n",
      "\u001b[0;31mKeyboardInterrupt\u001b[0m: "
     ]
    }
   ],
   "source": [
    "hist = model.fit_generator(\n",
    "        data_generator(cmp_train, prt_train, label_train, batch_size=16),\n",
    "        steps_per_epoch=660,\n",
    "        epochs=1000,\n",
    "        validation_data=data_generator(cmp_valid, prt_valid, label_valid,batch_size=16),\n",
    "        validation_steps=220,\n",
    "        callbacks=[es,mc])"
   ]
  },
  {
   "cell_type": "code",
   "execution_count": null,
   "metadata": {},
   "outputs": [],
   "source": []
  },
  {
   "cell_type": "code",
   "execution_count": null,
   "metadata": {},
   "outputs": [],
   "source": []
  },
  {
   "cell_type": "code",
   "execution_count": null,
   "metadata": {},
   "outputs": [],
   "source": []
  },
  {
   "cell_type": "code",
   "execution_count": null,
   "metadata": {},
   "outputs": [],
   "source": []
  },
  {
   "cell_type": "code",
   "execution_count": 45,
   "metadata": {},
   "outputs": [
    {
     "name": "stdout",
     "output_type": "stream",
     "text": [
      "3519/3519 [==============================] - 3s 770us/step\n",
      "## evaluation loss and_metrics ##\n",
      "[0.46504765700704503, 0.9763401527572809, 0.5749595871565185, 0.568580294238061]\n"
     ]
    }
   ],
   "source": [
    "loss_and_metrics = model.evaluate([cmp_test, prt_test] , label_test, batch_size=32)\n",
    "print('## evaluation loss and_metrics ##')\n",
    "print(loss_and_metrics)\n"
   ]
  },
  {
   "cell_type": "code",
   "execution_count": 46,
   "metadata": {
    "scrolled": true
   },
   "outputs": [
    {
     "name": "stdout",
     "output_type": "stream",
     "text": [
      "실제 :  (array([ 45,  46,  47,  48,  50,  51,  55,  57,  58,  59,  61, 114, 134,\n",
      "       136, 137, 138, 139, 140, 141, 144, 162, 166, 171, 173, 180, 181,\n",
      "       182, 183, 185, 290, 293, 296, 298, 300]),)\n",
      "예측 :  (array([56, 87, 88, 89]),)\n"
     ]
    }
   ],
   "source": [
    "a_ = model.predict( [[cmp_train[1]],[prt_train[1]]])\n",
    "print('실제 : ', np.where(label_train[0]==1))\n",
    "print('예측 : ', np.where(np.round(a_)[0]==1) )"
   ]
  },
  {
   "cell_type": "code",
   "execution_count": 47,
   "metadata": {},
   "outputs": [
    {
     "name": "stdout",
     "output_type": "stream",
     "text": [
      "실제 :  (array([ 28,  33,  34,  35,  36,  46,  49,  50,  53, 201, 203, 204, 240,\n",
      "       241, 242, 243, 244, 245]),)\n",
      "예측 :  (array([ 12,  13,  17,  19,  21,  24,  43,  44,  45,  63,  66,  69,  71,\n",
      "        72,  73,  90,  91,  92, 111, 115, 116, 117, 118, 119, 120, 124,\n",
      "       127, 160, 161, 162, 187, 192, 193, 194, 195, 196, 197, 198, 199,\n",
      "       200, 201]),)\n"
     ]
    }
   ],
   "source": [
    "b_ = model.predict(  [[cmp_test[0]],[prt_test[0]]])\n",
    "print('실제 : ', np.where(label_test[1]==1))\n",
    "\n",
    "print('예측 : ', np.where(np.round(b_)[0]==1) )"
   ]
  },
  {
   "cell_type": "code",
   "execution_count": 2,
   "metadata": {},
   "outputs": [
    {
     "ename": "NameError",
     "evalue": "name 'model' is not defined",
     "output_type": "error",
     "traceback": [
      "\u001b[0;31m---------------------------------------------------------------------------\u001b[0m",
      "\u001b[0;31mNameError\u001b[0m                                 Traceback (most recent call last)",
      "\u001b[0;32m<ipython-input-2-717f551a0141>\u001b[0m in \u001b[0;36m<module>\u001b[0;34m\u001b[0m\n\u001b[0;32m----> 1\u001b[0;31m \u001b[0mpred_label\u001b[0m \u001b[0;34m=\u001b[0m \u001b[0mmodel\u001b[0m\u001b[0;34m.\u001b[0m\u001b[0mpredict\u001b[0m\u001b[0;34m(\u001b[0m  \u001b[0;34m[\u001b[0m\u001b[0mcmp_test\u001b[0m\u001b[0;34m,\u001b[0m\u001b[0mprt_test\u001b[0m\u001b[0;34m]\u001b[0m\u001b[0;34m)\u001b[0m\u001b[0;34m\u001b[0m\u001b[0;34m\u001b[0m\u001b[0m\n\u001b[0m",
      "\u001b[0;31mNameError\u001b[0m: name 'model' is not defined"
     ]
    }
   ],
   "source": [
    "pred_label = model.predict(  [cmp_test,prt_test])"
   ]
  },
  {
   "cell_type": "code",
   "execution_count": 3,
   "metadata": {},
   "outputs": [
    {
     "ename": "NameError",
     "evalue": "name 'pred_label' is not defined",
     "output_type": "error",
     "traceback": [
      "\u001b[0;31m---------------------------------------------------------------------------\u001b[0m",
      "\u001b[0;31mNameError\u001b[0m                                 Traceback (most recent call last)",
      "\u001b[0;32m<ipython-input-3-19ebeab7a889>\u001b[0m in \u001b[0;36m<module>\u001b[0;34m\u001b[0m\n\u001b[1;32m      1\u001b[0m \u001b[0mpredict_all\u001b[0m \u001b[0;34m=\u001b[0m \u001b[0;34m[\u001b[0m\u001b[0;34m]\u001b[0m\u001b[0;34m\u001b[0m\u001b[0;34m\u001b[0m\u001b[0m\n\u001b[1;32m      2\u001b[0m \u001b[0mtrue_all\u001b[0m \u001b[0;34m=\u001b[0m \u001b[0;34m[\u001b[0m\u001b[0;34m]\u001b[0m\u001b[0;34m\u001b[0m\u001b[0;34m\u001b[0m\u001b[0m\n\u001b[0;32m----> 3\u001b[0;31m \u001b[0mprint\u001b[0m\u001b[0;34m(\u001b[0m\u001b[0mpred_label\u001b[0m\u001b[0;34m.\u001b[0m\u001b[0mshape\u001b[0m\u001b[0;34m,\u001b[0m \u001b[0mlen\u001b[0m\u001b[0;34m(\u001b[0m\u001b[0mz_test\u001b[0m\u001b[0;34m)\u001b[0m\u001b[0;34m)\u001b[0m\u001b[0;34m\u001b[0m\u001b[0;34m\u001b[0m\u001b[0m\n\u001b[0m\u001b[1;32m      4\u001b[0m \u001b[0;32mfor\u001b[0m \u001b[0mi\u001b[0m \u001b[0;32min\u001b[0m \u001b[0mrange\u001b[0m\u001b[0;34m(\u001b[0m\u001b[0mlen\u001b[0m\u001b[0;34m(\u001b[0m\u001b[0mz_test\u001b[0m\u001b[0;34m)\u001b[0m\u001b[0;34m)\u001b[0m\u001b[0;34m:\u001b[0m\u001b[0;34m\u001b[0m\u001b[0;34m\u001b[0m\u001b[0m\n\u001b[1;32m      5\u001b[0m     \u001b[0mpred_temp\u001b[0m \u001b[0;34m=\u001b[0m \u001b[0mpred_label\u001b[0m\u001b[0;34m[\u001b[0m\u001b[0mi\u001b[0m\u001b[0;34m]\u001b[0m\u001b[0;34m[\u001b[0m\u001b[0;34m:\u001b[0m\u001b[0mz_test\u001b[0m\u001b[0;34m[\u001b[0m\u001b[0mi\u001b[0m\u001b[0;34m]\u001b[0m\u001b[0;34m]\u001b[0m\u001b[0;34m\u001b[0m\u001b[0;34m\u001b[0m\u001b[0m\n",
      "\u001b[0;31mNameError\u001b[0m: name 'pred_label' is not defined"
     ]
    }
   ],
   "source": [
    "predict_all = []\n",
    "true_all = []\n",
    "print(pred_label.shape, len(z_test))\n",
    "for i in range(len(z_test)):\n",
    "    pred_temp = pred_label[i][:z_test[i]]\n",
    "    true_temp = label_test[i][:z_test[i]]\n",
    "\n",
    "    for j in range(len(pred_temp)):\n",
    "        predict_all.append(pred_temp[j])\n",
    "        true_all.append(true_temp[j])"
   ]
  },
  {
   "cell_type": "code",
   "execution_count": 35,
   "metadata": {},
   "outputs": [],
   "source": [
    "from sklearn.metrics import roc_auc_score\n",
    "score = roc_auc_score(true_all, predict_all)"
   ]
  },
  {
   "cell_type": "code",
   "execution_count": 36,
   "metadata": {},
   "outputs": [
    {
     "data": {
      "text/plain": [
       "<matplotlib.legend.Legend at 0x7f5988267240>"
      ]
     },
     "execution_count": 36,
     "metadata": {},
     "output_type": "execute_result"
    },
    {
     "data": {
      "image/png": "[encoded data removed]",
      "text/plain": [
       "<Figure size 1080x864 with 1 Axes>"
      ]
     },
     "metadata": {
      "needs_background": "light"
     },
     "output_type": "display_data"
    }
   ],
   "source": [
    "import matplotlib.pyplot as plt\n",
    "from sklearn.metrics import roc_curve\n",
    "fpr, tpr, thresholds = roc_curve(true_all, predict_all)\n",
    "\n",
    "lw = 3\n",
    "plt.figure(figsize=(15,12))\n",
    "plt.plot([0, 1], [0, 1], color='k', linestyle='--')\n",
    "plt.plot(fpr, tpr, lw=lw, color='b', label= 'roc_auc_score (%0.3f)' % score)\n",
    "\n",
    "plt.xlabel('FPR', fontsize=15)\n",
    "plt.ylabel('TPR = recall', fontsize=15)\n",
    "plt.grid()\n",
    "plt.title('ROC_curve', fontsize=20)\n",
    "plt.legend(loc=\"lower right\", prop={'size': 15})\n",
    "#plt.savefig('./roc_'+test_name+'.png', dpi=300)"
   ]
  },
  {
   "cell_type": "code",
   "execution_count": null,
   "metadata": {},
   "outputs": [],
   "source": []
  },
  {
   "cell_type": "code",
   "execution_count": null,
   "metadata": {},
   "outputs": [],
   "source": []
  },
  {
   "cell_type": "code",
   "execution_count": null,
   "metadata": {},
   "outputs": [],
   "source": [
    "a = np.array([[1,1,1,0,0,0,0,0,1,1,0,0,0,0,0,0]])\n",
    "b=  np.array([[1,1,1,0,0,0,0,0,1,1,0,0,0,0,0,1]])\n",
    "c=  np.array([[1,1,1,0,0,0,0,1,1,1,0,0,0,0,0,0]])\n",
    "from scipy.spatial.distance import cdist"
   ]
  },
  {
   "cell_type": "code",
   "execution_count": null,
   "metadata": {},
   "outputs": [],
   "source": [
    "print(cdist(a,b,'russellrao'))\n",
    "print(cdist(a,c,'russellrao'))"
   ]
  }
 ],
 "metadata": {
  "kernelspec": {
   "display_name": "Python 3",
   "language": "python",
   "name": "python3"
  },
  "language_info": {
   "codemirror_mode": {
    "name": "ipython",
    "version": 3
   },
   "file_extension": ".py",
   "mimetype": "text/x-python",
   "name": "python",
   "nbconvert_exporter": "python",
   "pygments_lexer": "ipython3",
   "version": "3.6.9"
  },
  "varInspector": {
   "cols": {
    "lenName": 16,
    "lenType": 16,
    "lenVar": 40
   },
   "kernels_config": {
    "python": {
     "delete_cmd_postfix": "",
     "delete_cmd_prefix": "del ",
     "library": "var_list.py",
     "varRefreshCmd": "print(var_dic_list())"
    },
    "r": {
     "delete_cmd_postfix": ") ",
     "delete_cmd_prefix": "rm(",
     "library": "var_list.r",
     "varRefreshCmd": "cat(var_dic_list()) "
    }
   },
   "types_to_exclude": [
    "module",
    "function",
    "builtin_function_or_method",
    "instance",
    "_Feature"
   ],
   "window_display": true
  }
 },
 "nbformat": 4,
 "nbformat_minor": 2
}
